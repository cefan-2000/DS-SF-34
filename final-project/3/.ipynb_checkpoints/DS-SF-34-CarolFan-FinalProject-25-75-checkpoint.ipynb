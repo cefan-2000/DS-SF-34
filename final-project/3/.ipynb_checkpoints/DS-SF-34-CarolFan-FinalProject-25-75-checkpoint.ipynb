{
 "cells": [
  {
   "cell_type": "markdown",
   "metadata": {},
   "source": [
    "<h1><center>CAN A COMPUTER RECOGNIZE SIGN LANGUAGE?</h1></center>"
   ]
  },
  {
   "cell_type": "markdown",
   "metadata": {},
   "source": [
    "## Project Problem and Hypothesis"
   ]
  },
  {
   "cell_type": "markdown",
   "metadata": {},
   "source": [
    "BACKGROUND:  Sign language is a language that uses hand motions to represent a word or concept.  Sign language is not easily understood by hearing people with no background in sign language.  If there were a way to translate sign language motions into English, this would greatly increase the ability of the hearing and hard-of-hearing to understand each other.\n",
    "\n",
    "OBJECTIVE:  Can we use motion sensor data to translate signs in Australian sign language into written English?\n",
    "\n",
    "HYPOTHESIS:  Given motion sensor data, a machine learning algorithm can identify the word \"what\" (classification problem).  \n",
    "\n",
    "SUCCESS METRIC:  Confusion matrix (precision and recall) for correct classification of six question words.  The optimal Area Under Curve (AUC) = 1.\n"
   ]
  },
  {
   "cell_type": "code",
   "execution_count": 32,
   "metadata": {
    "collapsed": true
   },
   "outputs": [],
   "source": [
    "import os\n",
    "import fnmatch\n",
    "\n",
    "import math\n",
    "import numpy as np\n",
    "import pandas as pd\n",
    "pd.set_option('display.max_rows', 20)\n",
    "pd.set_option('display.notebook_repr_html', True)\n",
    "pd.set_option('display.max_columns', 20)\n",
    "\n",
    "from sklearn import preprocessing, linear_model, model_selection, metrics\n",
    "\n",
    "\n",
    "  # PLOTTING\n",
    "import matplotlib.pyplot as plt\n",
    "%matplotlib inline\n",
    "plt.style.use('ggplot')\n",
    "\n",
    "import seaborn as sns"
   ]
  },
  {
   "cell_type": "code",
   "execution_count": 2,
   "metadata": {
    "collapsed": false
   },
   "outputs": [],
   "source": [
    "    #this function reads in all of the file names that have \"signname\" in them within any folder inside\n",
    "    # /signs  which is where all the data are\n",
    "def read_all_files(sign_name):\n",
    "        df=[[]]\n",
    "        data=pd.DataFrame(df)\n",
    "        for root, dirs, files in os.walk('/Users/seanmcghee/Desktop/DS-SF-34-MyStuff/Australian-Sign-Language/signs'):\n",
    "             for fname in files:\n",
    "                if sign_name in fname:\n",
    "                    temp = pd.read_csv(os.path.join(root, fname),header=None)\n",
    "                    temp_df=pd.DataFrame(temp)\n",
    "                    temp_df['signr_sess_test']=root[root.rfind('/')+1:]+\"-\"+fname[-6:-5]\n",
    "                    temp_df.rename(columns = {0: 'x',\n",
    "                        1: 'y',\n",
    "                        2: 'z',\n",
    "                        3: 'roll',\n",
    "                        4: 'pitch',\n",
    "                        5: 'yaw',\n",
    "                        6: 'thumb_bend',\n",
    "                        7: 'pointer_bend',\n",
    "                        8: 'middle_bend',\n",
    "                        9: 'ring_bend',\n",
    "                        10: 'pinky_bend'}, inplace = True)\n",
    "                    temp_df['num_frames'] = temp_df.groupby(['signr_sess_test'])['x'].transform('count').astype(int)\n",
    "                    data=pd.concat([data,temp_df],axis=0, ignore_index=True)\n",
    "            # get rid of first row which is blank\n",
    "        data.drop(data.head(1).index, inplace=True)\n",
    "        data.drop([11,12,13,14],axis=1, inplace=True)\n",
    "        return data\n",
    "    \n",
    "    \n",
    "    # this function takes the difference between the 25th and 75th percentiles of a field\n",
    "def get_diff(df,field):\n",
    "        temp_75 = df.groupby(['signr_sess_test'])[[field]].agg(lambda g: np.percentile(g,75))\n",
    "        temp_75.rename(columns = {field: field+'_75'}, inplace=True)\n",
    "        temp_25 = what.groupby(['signr_sess_test'])[[field]].agg(lambda g: np.percentile(g,25))\n",
    "        temp_25.rename(columns = {field: field+'_25'}, inplace=True)\n",
    "        temp_25.head(5)\n",
    "        df_features = pd.concat([temp_25,temp_75], axis=1)\n",
    "        df_features[field+'_diff']=df_features[field+'_75']-df_features[field+'_25']\n",
    "        return df_features    \n",
    "    \n",
    "\n",
    "    # create differences and put them in one data frame\n",
    "def concat_diffs(df,f1,f2,f3,f4,f5,f6,f7,f8,f9,f10,f11):\n",
    "        temp = get_diff(df,f1)\n",
    "        temp = pd.concat([temp,get_diff(df,f2)], axis=1)\n",
    "        temp = pd.concat([temp,get_diff(df,f3)], axis=1)\n",
    "        temp = pd.concat([temp,get_diff(df,f4)], axis=1)\n",
    "        temp = pd.concat([temp,get_diff(df,f5)], axis=1)\n",
    "        temp = pd.concat([temp,get_diff(df,f6)], axis=1)\n",
    "        temp = pd.concat([temp,get_diff(df,f7)], axis=1)\n",
    "        temp = pd.concat([temp,get_diff(df,f8)], axis=1)\n",
    "        temp = pd.concat([temp,get_diff(df,f9)], axis=1)\n",
    "        temp = pd.concat([temp,get_diff(df,f10)], axis=1)\n",
    "        temp = pd.concat([temp,get_diff(df,f11)], axis=1)\n",
    "        temp.head(5)\n",
    "        return temp\n",
    "\n",
    "    # this function creates box plots of all of the differences\n",
    "def plot_diffs(df,f1,f2,f3,f4,f5,f6,f7,f8,f9,f10,f11):\n",
    "        fig = plt.figure(figsize=(14,14))\n",
    "        ax1 = fig.add_subplot(431)\n",
    "        ax1.boxplot(df[ f1 ])\n",
    "        plt.ylabel(f1)\n",
    "        ax2 = fig.add_subplot(432)\n",
    "        ax2.boxplot(df[ f2 ])\n",
    "        plt.ylabel(f2)\n",
    "        ax3 = fig.add_subplot(433)\n",
    "        ax3.boxplot(df[ f3 ])\n",
    "        plt.ylabel(f3)\n",
    "        ax4 = fig.add_subplot(434)\n",
    "        ax4.boxplot(df[ f4 ])\n",
    "        plt.ylabel(f4)\n",
    "        ax5 = fig.add_subplot(435)\n",
    "        ax5.boxplot(df[ f5 ])\n",
    "        plt.ylabel(f5)\n",
    "        ax6 = fig.add_subplot(436)\n",
    "        ax6.boxplot(df[ f6 ])\n",
    "        plt.ylabel(f6)\n",
    "        ax7 = fig.add_subplot(437)\n",
    "        ax7.boxplot(df[ f7 ])\n",
    "        plt.ylabel(f7)\n",
    "        ax8 = fig.add_subplot(438)\n",
    "        ax8.boxplot(df[ f8 ])\n",
    "        plt.ylabel(f8)\n",
    "        ax9 = fig.add_subplot(439)\n",
    "        ax9.boxplot(df[ f9 ])\n",
    "        plt.ylabel(f9)\n",
    "        ax10 = fig.add_subplot(4,3,10)\n",
    "        ax10.boxplot(df[ f10 ])\n",
    "        plt.ylabel(f10)\n",
    "        ax11 = fig.add_subplot(4,3,11)\n",
    "        ax11.boxplot(df[ f11 ])\n",
    "        plt.ylabel(f11)\n",
    "        \n"
   ]
  },
  {
   "cell_type": "markdown",
   "metadata": {},
   "source": [
    "## WHAT"
   ]
  },
  {
   "cell_type": "code",
   "execution_count": 3,
   "metadata": {
    "collapsed": false
   },
   "outputs": [
    {
     "data": {
      "text/html": [
       "<div>\n",
       "<table border=\"1\" class=\"dataframe\">\n",
       "  <thead>\n",
       "    <tr style=\"text-align: right;\">\n",
       "      <th></th>\n",
       "      <th>x</th>\n",
       "      <th>y</th>\n",
       "      <th>z</th>\n",
       "      <th>roll</th>\n",
       "      <th>pitch</th>\n",
       "      <th>yaw</th>\n",
       "      <th>thumb_bend</th>\n",
       "      <th>pointer_bend</th>\n",
       "      <th>middle_bend</th>\n",
       "      <th>ring_bend</th>\n",
       "      <th>pinky_bend</th>\n",
       "      <th>signr_sess_test</th>\n",
       "      <th>num_frames</th>\n",
       "    </tr>\n",
       "  </thead>\n",
       "  <tbody>\n",
       "    <tr>\n",
       "      <th>1</th>\n",
       "      <td>-0.007812</td>\n",
       "      <td>0.000000</td>\n",
       "      <td>0.0</td>\n",
       "      <td>0.000000</td>\n",
       "      <td>-1.0</td>\n",
       "      <td>-1.0</td>\n",
       "      <td>0.25</td>\n",
       "      <td>0.50</td>\n",
       "      <td>0.50</td>\n",
       "      <td>0.75</td>\n",
       "      <td>0.75</td>\n",
       "      <td>adam1-0</td>\n",
       "      <td>49.0</td>\n",
       "    </tr>\n",
       "    <tr>\n",
       "      <th>2</th>\n",
       "      <td>0.000000</td>\n",
       "      <td>-0.015625</td>\n",
       "      <td>0.0</td>\n",
       "      <td>0.000000</td>\n",
       "      <td>-1.0</td>\n",
       "      <td>-1.0</td>\n",
       "      <td>0.25</td>\n",
       "      <td>0.50</td>\n",
       "      <td>0.50</td>\n",
       "      <td>0.75</td>\n",
       "      <td>0.75</td>\n",
       "      <td>adam1-0</td>\n",
       "      <td>49.0</td>\n",
       "    </tr>\n",
       "    <tr>\n",
       "      <th>3</th>\n",
       "      <td>-0.007812</td>\n",
       "      <td>0.000000</td>\n",
       "      <td>0.0</td>\n",
       "      <td>0.000000</td>\n",
       "      <td>-1.0</td>\n",
       "      <td>-1.0</td>\n",
       "      <td>0.25</td>\n",
       "      <td>0.25</td>\n",
       "      <td>0.75</td>\n",
       "      <td>0.75</td>\n",
       "      <td>0.75</td>\n",
       "      <td>adam1-0</td>\n",
       "      <td>49.0</td>\n",
       "    </tr>\n",
       "    <tr>\n",
       "      <th>4</th>\n",
       "      <td>0.000000</td>\n",
       "      <td>0.007812</td>\n",
       "      <td>0.0</td>\n",
       "      <td>0.000000</td>\n",
       "      <td>-1.0</td>\n",
       "      <td>-1.0</td>\n",
       "      <td>0.25</td>\n",
       "      <td>0.00</td>\n",
       "      <td>0.75</td>\n",
       "      <td>0.75</td>\n",
       "      <td>0.75</td>\n",
       "      <td>adam1-0</td>\n",
       "      <td>49.0</td>\n",
       "    </tr>\n",
       "    <tr>\n",
       "      <th>5</th>\n",
       "      <td>0.007812</td>\n",
       "      <td>0.000000</td>\n",
       "      <td>0.0</td>\n",
       "      <td>0.083333</td>\n",
       "      <td>-1.0</td>\n",
       "      <td>-1.0</td>\n",
       "      <td>0.25</td>\n",
       "      <td>0.00</td>\n",
       "      <td>0.75</td>\n",
       "      <td>0.75</td>\n",
       "      <td>0.75</td>\n",
       "      <td>adam1-0</td>\n",
       "      <td>49.0</td>\n",
       "    </tr>\n",
       "  </tbody>\n",
       "</table>\n",
       "</div>"
      ],
      "text/plain": [
       "          x         y    z      roll  pitch  yaw  thumb_bend  pointer_bend  \\\n",
       "1 -0.007812  0.000000  0.0  0.000000   -1.0 -1.0        0.25          0.50   \n",
       "2  0.000000 -0.015625  0.0  0.000000   -1.0 -1.0        0.25          0.50   \n",
       "3 -0.007812  0.000000  0.0  0.000000   -1.0 -1.0        0.25          0.25   \n",
       "4  0.000000  0.007812  0.0  0.000000   -1.0 -1.0        0.25          0.00   \n",
       "5  0.007812  0.000000  0.0  0.083333   -1.0 -1.0        0.25          0.00   \n",
       "\n",
       "   middle_bend  ring_bend  pinky_bend signr_sess_test  num_frames  \n",
       "1         0.50       0.75        0.75         adam1-0        49.0  \n",
       "2         0.50       0.75        0.75         adam1-0        49.0  \n",
       "3         0.75       0.75        0.75         adam1-0        49.0  \n",
       "4         0.75       0.75        0.75         adam1-0        49.0  \n",
       "5         0.75       0.75        0.75         adam1-0        49.0  "
      ]
     },
     "execution_count": 3,
     "metadata": {},
     "output_type": "execute_result"
    }
   ],
   "source": [
    "what = read_all_files(\"what\")\n",
    "what.head(5)"
   ]
  },
  {
   "cell_type": "code",
   "execution_count": 4,
   "metadata": {
    "collapsed": false
   },
   "outputs": [
    {
     "data": {
      "text/html": [
       "<div>\n",
       "<table border=\"1\" class=\"dataframe\">\n",
       "  <thead>\n",
       "    <tr style=\"text-align: right;\">\n",
       "      <th></th>\n",
       "      <th>x_25</th>\n",
       "      <th>x_75</th>\n",
       "      <th>x_diff</th>\n",
       "      <th>y_25</th>\n",
       "      <th>y_75</th>\n",
       "      <th>y_diff</th>\n",
       "      <th>z_25</th>\n",
       "      <th>z_75</th>\n",
       "      <th>z_diff</th>\n",
       "      <th>pitch_25</th>\n",
       "      <th>...</th>\n",
       "      <th>middle_bend_25</th>\n",
       "      <th>middle_bend_75</th>\n",
       "      <th>middle_bend_diff</th>\n",
       "      <th>ring_bend_25</th>\n",
       "      <th>ring_bend_75</th>\n",
       "      <th>ring_bend_diff</th>\n",
       "      <th>pinky_bend_25</th>\n",
       "      <th>pinky_bend_75</th>\n",
       "      <th>pinky_bend_diff</th>\n",
       "      <th>is_what</th>\n",
       "    </tr>\n",
       "    <tr>\n",
       "      <th>signr_sess_test</th>\n",
       "      <th></th>\n",
       "      <th></th>\n",
       "      <th></th>\n",
       "      <th></th>\n",
       "      <th></th>\n",
       "      <th></th>\n",
       "      <th></th>\n",
       "      <th></th>\n",
       "      <th></th>\n",
       "      <th></th>\n",
       "      <th></th>\n",
       "      <th></th>\n",
       "      <th></th>\n",
       "      <th></th>\n",
       "      <th></th>\n",
       "      <th></th>\n",
       "      <th></th>\n",
       "      <th></th>\n",
       "      <th></th>\n",
       "      <th></th>\n",
       "      <th></th>\n",
       "    </tr>\n",
       "  </thead>\n",
       "  <tbody>\n",
       "    <tr>\n",
       "      <th>adam1-0</th>\n",
       "      <td>-0.117188</td>\n",
       "      <td>0.000000</td>\n",
       "      <td>0.117188</td>\n",
       "      <td>0.023438</td>\n",
       "      <td>0.562500</td>\n",
       "      <td>0.539062</td>\n",
       "      <td>-0.015625</td>\n",
       "      <td>0.0</td>\n",
       "      <td>0.015625</td>\n",
       "      <td>-1.0</td>\n",
       "      <td>...</td>\n",
       "      <td>0.25</td>\n",
       "      <td>0.50</td>\n",
       "      <td>0.25</td>\n",
       "      <td>0.75</td>\n",
       "      <td>0.75</td>\n",
       "      <td>0.00</td>\n",
       "      <td>0.75</td>\n",
       "      <td>0.75</td>\n",
       "      <td>0.00</td>\n",
       "      <td>1</td>\n",
       "    </tr>\n",
       "    <tr>\n",
       "      <th>adam1-1</th>\n",
       "      <td>-0.117188</td>\n",
       "      <td>-0.015625</td>\n",
       "      <td>0.101562</td>\n",
       "      <td>0.001953</td>\n",
       "      <td>0.466797</td>\n",
       "      <td>0.464844</td>\n",
       "      <td>-0.054688</td>\n",
       "      <td>0.0</td>\n",
       "      <td>0.054688</td>\n",
       "      <td>-1.0</td>\n",
       "      <td>...</td>\n",
       "      <td>0.25</td>\n",
       "      <td>0.25</td>\n",
       "      <td>0.00</td>\n",
       "      <td>0.75</td>\n",
       "      <td>0.75</td>\n",
       "      <td>0.00</td>\n",
       "      <td>0.75</td>\n",
       "      <td>0.75</td>\n",
       "      <td>0.00</td>\n",
       "      <td>1</td>\n",
       "    </tr>\n",
       "    <tr>\n",
       "      <th>adam2-0</th>\n",
       "      <td>-0.054688</td>\n",
       "      <td>0.029297</td>\n",
       "      <td>0.083985</td>\n",
       "      <td>0.050781</td>\n",
       "      <td>0.765625</td>\n",
       "      <td>0.714844</td>\n",
       "      <td>-0.015625</td>\n",
       "      <td>0.0</td>\n",
       "      <td>0.015625</td>\n",
       "      <td>-1.0</td>\n",
       "      <td>...</td>\n",
       "      <td>0.75</td>\n",
       "      <td>0.75</td>\n",
       "      <td>0.00</td>\n",
       "      <td>0.00</td>\n",
       "      <td>0.75</td>\n",
       "      <td>0.75</td>\n",
       "      <td>0.00</td>\n",
       "      <td>0.75</td>\n",
       "      <td>0.75</td>\n",
       "      <td>1</td>\n",
       "    </tr>\n",
       "    <tr>\n",
       "      <th>adam2-1</th>\n",
       "      <td>-0.005859</td>\n",
       "      <td>0.046875</td>\n",
       "      <td>0.052734</td>\n",
       "      <td>-0.019532</td>\n",
       "      <td>0.701172</td>\n",
       "      <td>0.720703</td>\n",
       "      <td>-0.039062</td>\n",
       "      <td>0.0</td>\n",
       "      <td>0.039062</td>\n",
       "      <td>-1.0</td>\n",
       "      <td>...</td>\n",
       "      <td>0.25</td>\n",
       "      <td>0.25</td>\n",
       "      <td>0.00</td>\n",
       "      <td>0.00</td>\n",
       "      <td>0.00</td>\n",
       "      <td>0.00</td>\n",
       "      <td>0.00</td>\n",
       "      <td>0.00</td>\n",
       "      <td>0.00</td>\n",
       "      <td>1</td>\n",
       "    </tr>\n",
       "    <tr>\n",
       "      <th>adam2-2</th>\n",
       "      <td>-0.078125</td>\n",
       "      <td>0.015625</td>\n",
       "      <td>0.093750</td>\n",
       "      <td>0.070312</td>\n",
       "      <td>0.820312</td>\n",
       "      <td>0.750000</td>\n",
       "      <td>-0.031250</td>\n",
       "      <td>0.0</td>\n",
       "      <td>0.031250</td>\n",
       "      <td>-1.0</td>\n",
       "      <td>...</td>\n",
       "      <td>0.25</td>\n",
       "      <td>0.50</td>\n",
       "      <td>0.25</td>\n",
       "      <td>0.00</td>\n",
       "      <td>0.00</td>\n",
       "      <td>0.00</td>\n",
       "      <td>0.00</td>\n",
       "      <td>0.00</td>\n",
       "      <td>0.00</td>\n",
       "      <td>1</td>\n",
       "    </tr>\n",
       "  </tbody>\n",
       "</table>\n",
       "<p>5 rows × 34 columns</p>\n",
       "</div>"
      ],
      "text/plain": [
       "                     x_25      x_75    x_diff      y_25      y_75    y_diff  \\\n",
       "signr_sess_test                                                               \n",
       "adam1-0         -0.117188  0.000000  0.117188  0.023438  0.562500  0.539062   \n",
       "adam1-1         -0.117188 -0.015625  0.101562  0.001953  0.466797  0.464844   \n",
       "adam2-0         -0.054688  0.029297  0.083985  0.050781  0.765625  0.714844   \n",
       "adam2-1         -0.005859  0.046875  0.052734 -0.019532  0.701172  0.720703   \n",
       "adam2-2         -0.078125  0.015625  0.093750  0.070312  0.820312  0.750000   \n",
       "\n",
       "                     z_25  z_75    z_diff  pitch_25   ...     middle_bend_25  \\\n",
       "signr_sess_test                                       ...                      \n",
       "adam1-0         -0.015625   0.0  0.015625      -1.0   ...               0.25   \n",
       "adam1-1         -0.054688   0.0  0.054688      -1.0   ...               0.25   \n",
       "adam2-0         -0.015625   0.0  0.015625      -1.0   ...               0.75   \n",
       "adam2-1         -0.039062   0.0  0.039062      -1.0   ...               0.25   \n",
       "adam2-2         -0.031250   0.0  0.031250      -1.0   ...               0.25   \n",
       "\n",
       "                 middle_bend_75  middle_bend_diff  ring_bend_25  ring_bend_75  \\\n",
       "signr_sess_test                                                                 \n",
       "adam1-0                    0.50              0.25          0.75          0.75   \n",
       "adam1-1                    0.25              0.00          0.75          0.75   \n",
       "adam2-0                    0.75              0.00          0.00          0.75   \n",
       "adam2-1                    0.25              0.00          0.00          0.00   \n",
       "adam2-2                    0.50              0.25          0.00          0.00   \n",
       "\n",
       "                 ring_bend_diff  pinky_bend_25  pinky_bend_75  \\\n",
       "signr_sess_test                                                 \n",
       "adam1-0                    0.00           0.75           0.75   \n",
       "adam1-1                    0.00           0.75           0.75   \n",
       "adam2-0                    0.75           0.00           0.75   \n",
       "adam2-1                    0.00           0.00           0.00   \n",
       "adam2-2                    0.00           0.00           0.00   \n",
       "\n",
       "                 pinky_bend_diff  is_what  \n",
       "signr_sess_test                            \n",
       "adam1-0                     0.00        1  \n",
       "adam1-1                     0.00        1  \n",
       "adam2-0                     0.75        1  \n",
       "adam2-1                     0.00        1  \n",
       "adam2-2                     0.00        1  \n",
       "\n",
       "[5 rows x 34 columns]"
      ]
     },
     "execution_count": 4,
     "metadata": {},
     "output_type": "execute_result"
    }
   ],
   "source": [
    "what_features = concat_diffs(what,'x','y','z', \\\n",
    "                             'pitch','roll','yaw','thumb_bend','pointer_bend','middle_bend','ring_bend','pinky_bend')\n",
    "what_features['is_what']=1\n",
    "what_features.head(5)\n"
   ]
  },
  {
   "cell_type": "code",
   "execution_count": 5,
   "metadata": {
    "collapsed": false
   },
   "outputs": [
    {
     "data": {
      "image/png": "[encoded data removed]",
      "text/plain": [
       "<matplotlib.figure.Figure at 0x10df9b650>"
      ]
     },
     "metadata": {},
     "output_type": "display_data"
    }
   ],
   "source": [
    "plot_diffs(what_features,'x_diff','y_diff','z_diff','roll_diff','pitch_diff','yaw_diff', \\\n",
    "           'thumb_bend_diff','pointer_bend_diff','middle_bend_diff','ring_bend_diff','pinky_bend_diff')"
   ]
  },
  {
   "cell_type": "markdown",
   "metadata": {},
   "source": [
    "## WHEN"
   ]
  },
  {
   "cell_type": "code",
   "execution_count": 6,
   "metadata": {
    "collapsed": false
   },
   "outputs": [],
   "source": [
    "when = read_all_files(\"when\")\n",
    "when_features = concat_diffs(when,'x','y','z', \\\n",
    "                             'pitch','roll','yaw','thumb_bend','pointer_bend','middle_bend','ring_bend','pinky_bend')\n",
    "when_features['is_what']=0\n",
    "#plot_diffs(when_features,'x_diff','y_diff','z_diff','roll_diff','pitch_diff','yaw_diff', \\\n",
    "#          'thumb_bend_diff','pointer_bend_diff','middle_bend_diff','ring_bend_diff','pinky_bend_diff')"
   ]
  },
  {
   "cell_type": "markdown",
   "metadata": {},
   "source": [
    "## WHERE"
   ]
  },
  {
   "cell_type": "code",
   "execution_count": 7,
   "metadata": {
    "collapsed": true
   },
   "outputs": [],
   "source": [
    "where = read_all_files(\"where\")\n",
    "where_features = concat_diffs(where,'x','y','z', \\\n",
    "                             'pitch','roll','yaw','thumb_bend','pointer_bend','middle_bend','ring_bend','pinky_bend')\n",
    "where_features['is_what']=0\n"
   ]
  },
  {
   "cell_type": "markdown",
   "metadata": {},
   "source": [
    "## WHICH"
   ]
  },
  {
   "cell_type": "code",
   "execution_count": 8,
   "metadata": {
    "collapsed": true
   },
   "outputs": [],
   "source": [
    "which = read_all_files(\"which\")\n",
    "which_features = concat_diffs(which,'x','y','z', \\\n",
    "                             'pitch','roll','yaw','thumb_bend','pointer_bend','middle_bend','ring_bend','pinky_bend')\n",
    "which_features['is_what']=0\n"
   ]
  },
  {
   "cell_type": "markdown",
   "metadata": {},
   "source": [
    "## WHO"
   ]
  },
  {
   "cell_type": "code",
   "execution_count": 9,
   "metadata": {
    "collapsed": true
   },
   "outputs": [],
   "source": [
    "who = read_all_files(\"who\")\n",
    "who_features = concat_diffs(who,'x','y','z', \\\n",
    "                             'pitch','roll','yaw','thumb_bend','pointer_bend','middle_bend','ring_bend','pinky_bend')\n",
    "who_features['is_what']=0\n"
   ]
  },
  {
   "cell_type": "markdown",
   "metadata": {},
   "source": [
    "## WHY"
   ]
  },
  {
   "cell_type": "code",
   "execution_count": 10,
   "metadata": {
    "collapsed": true
   },
   "outputs": [],
   "source": [
    "why = read_all_files(\"why\")\n",
    "why_features = concat_diffs(why,'x','y','z', \\\n",
    "                             'pitch','roll','yaw','thumb_bend','pointer_bend','middle_bend','ring_bend','pinky_bend')\n",
    "why_features['is_what']=0\n"
   ]
  },
  {
   "cell_type": "markdown",
   "metadata": {},
   "source": [
    "# Can we distinguish between \"What\" and \"Not What\"?"
   ]
  },
  {
   "cell_type": "code",
   "execution_count": 11,
   "metadata": {
    "collapsed": false
   },
   "outputs": [
    {
     "data": {
      "text/html": [
       "<div>\n",
       "<table border=\"1\" class=\"dataframe\">\n",
       "  <thead>\n",
       "    <tr style=\"text-align: right;\">\n",
       "      <th></th>\n",
       "      <th>x_diff</th>\n",
       "      <th>y_diff</th>\n",
       "      <th>z_diff</th>\n",
       "      <th>roll_diff</th>\n",
       "      <th>pitch_diff</th>\n",
       "      <th>yaw_diff</th>\n",
       "      <th>thumb_bend_diff</th>\n",
       "      <th>pointer_bend_diff</th>\n",
       "      <th>middle_bend_diff</th>\n",
       "      <th>ring_bend_diff</th>\n",
       "      <th>pinky_bend_diff</th>\n",
       "      <th>is_what</th>\n",
       "    </tr>\n",
       "    <tr>\n",
       "      <th>signr_sess_test</th>\n",
       "      <th></th>\n",
       "      <th></th>\n",
       "      <th></th>\n",
       "      <th></th>\n",
       "      <th></th>\n",
       "      <th></th>\n",
       "      <th></th>\n",
       "      <th></th>\n",
       "      <th></th>\n",
       "      <th></th>\n",
       "      <th></th>\n",
       "      <th></th>\n",
       "    </tr>\n",
       "  </thead>\n",
       "  <tbody>\n",
       "    <tr>\n",
       "      <th>adam1-0</th>\n",
       "      <td>0.117188</td>\n",
       "      <td>0.539062</td>\n",
       "      <td>0.015625</td>\n",
       "      <td>0.083333</td>\n",
       "      <td>0.0</td>\n",
       "      <td>0.0</td>\n",
       "      <td>0.00</td>\n",
       "      <td>0.75</td>\n",
       "      <td>0.25</td>\n",
       "      <td>0.00</td>\n",
       "      <td>0.00</td>\n",
       "      <td>1</td>\n",
       "    </tr>\n",
       "    <tr>\n",
       "      <th>adam1-0</th>\n",
       "      <td>0.156250</td>\n",
       "      <td>0.054687</td>\n",
       "      <td>0.031250</td>\n",
       "      <td>0.333333</td>\n",
       "      <td>0.0</td>\n",
       "      <td>0.0</td>\n",
       "      <td>-0.25</td>\n",
       "      <td>0.75</td>\n",
       "      <td>0.50</td>\n",
       "      <td>0.00</td>\n",
       "      <td>0.00</td>\n",
       "      <td>0</td>\n",
       "    </tr>\n",
       "    <tr>\n",
       "      <th>adam1-0</th>\n",
       "      <td>0.125000</td>\n",
       "      <td>0.656250</td>\n",
       "      <td>0.027343</td>\n",
       "      <td>0.291666</td>\n",
       "      <td>0.0</td>\n",
       "      <td>0.0</td>\n",
       "      <td>0.00</td>\n",
       "      <td>0.75</td>\n",
       "      <td>0.25</td>\n",
       "      <td>0.00</td>\n",
       "      <td>0.00</td>\n",
       "      <td>0</td>\n",
       "    </tr>\n",
       "    <tr>\n",
       "      <th>adam1-0</th>\n",
       "      <td>0.132813</td>\n",
       "      <td>0.242187</td>\n",
       "      <td>0.015625</td>\n",
       "      <td>0.000000</td>\n",
       "      <td>0.0</td>\n",
       "      <td>0.0</td>\n",
       "      <td>-0.25</td>\n",
       "      <td>0.75</td>\n",
       "      <td>0.50</td>\n",
       "      <td>-0.25</td>\n",
       "      <td>-0.25</td>\n",
       "      <td>0</td>\n",
       "    </tr>\n",
       "    <tr>\n",
       "      <th>adam1-0</th>\n",
       "      <td>0.093750</td>\n",
       "      <td>0.367187</td>\n",
       "      <td>0.015625</td>\n",
       "      <td>0.083333</td>\n",
       "      <td>0.0</td>\n",
       "      <td>0.0</td>\n",
       "      <td>-0.25</td>\n",
       "      <td>0.75</td>\n",
       "      <td>0.25</td>\n",
       "      <td>-0.25</td>\n",
       "      <td>-0.25</td>\n",
       "      <td>0</td>\n",
       "    </tr>\n",
       "  </tbody>\n",
       "</table>\n",
       "</div>"
      ],
      "text/plain": [
       "                   x_diff    y_diff    z_diff  roll_diff  pitch_diff  \\\n",
       "signr_sess_test                                                        \n",
       "adam1-0          0.117188  0.539062  0.015625   0.083333         0.0   \n",
       "adam1-0          0.156250  0.054687  0.031250   0.333333         0.0   \n",
       "adam1-0          0.125000  0.656250  0.027343   0.291666         0.0   \n",
       "adam1-0          0.132813  0.242187  0.015625   0.000000         0.0   \n",
       "adam1-0          0.093750  0.367187  0.015625   0.083333         0.0   \n",
       "\n",
       "                 yaw_diff  thumb_bend_diff  pointer_bend_diff  \\\n",
       "signr_sess_test                                                 \n",
       "adam1-0               0.0             0.00               0.75   \n",
       "adam1-0               0.0            -0.25               0.75   \n",
       "adam1-0               0.0             0.00               0.75   \n",
       "adam1-0               0.0            -0.25               0.75   \n",
       "adam1-0               0.0            -0.25               0.75   \n",
       "\n",
       "                 middle_bend_diff  ring_bend_diff  pinky_bend_diff  is_what  \n",
       "signr_sess_test                                                              \n",
       "adam1-0                      0.25            0.00             0.00        1  \n",
       "adam1-0                      0.50            0.00             0.00        0  \n",
       "adam1-0                      0.25            0.00             0.00        0  \n",
       "adam1-0                      0.50           -0.25            -0.25        0  \n",
       "adam1-0                      0.25           -0.25            -0.25        0  "
      ]
     },
     "execution_count": 11,
     "metadata": {},
     "output_type": "execute_result"
    }
   ],
   "source": [
    "df=pd.concat([what_features,when_features,where_features,which_features,who_features,why_features]).sort_index()\n",
    "df=df[['x_diff','y_diff','z_diff','roll_diff','pitch_diff','yaw_diff', \\\n",
    "           'thumb_bend_diff','pointer_bend_diff','middle_bend_diff','ring_bend_diff','pinky_bend_diff',\n",
    "      'is_what']]\n",
    "df.head()"
   ]
  },
  {
   "cell_type": "code",
   "execution_count": 12,
   "metadata": {
    "collapsed": false
   },
   "outputs": [
    {
     "data": {
      "text/plain": [
       "0.16666666666666666"
      ]
     },
     "execution_count": 12,
     "metadata": {},
     "output_type": "execute_result"
    }
   ],
   "source": [
    "   # what appears 17% of the time\n",
    "df.is_what.mean()"
   ]
  },
  {
   "cell_type": "code",
   "execution_count": 13,
   "metadata": {
    "collapsed": false
   },
   "outputs": [
    {
     "data": {
      "text/html": [
       "<div>\n",
       "<table border=\"1\" class=\"dataframe\">\n",
       "  <thead>\n",
       "    <tr style=\"text-align: right;\">\n",
       "      <th></th>\n",
       "      <th>x_diff</th>\n",
       "      <th>y_diff</th>\n",
       "      <th>z_diff</th>\n",
       "      <th>roll_diff</th>\n",
       "      <th>pitch_diff</th>\n",
       "      <th>yaw_diff</th>\n",
       "      <th>thumb_bend_diff</th>\n",
       "      <th>pointer_bend_diff</th>\n",
       "      <th>middle_bend_diff</th>\n",
       "      <th>ring_bend_diff</th>\n",
       "      <th>pinky_bend_diff</th>\n",
       "      <th>is_what</th>\n",
       "    </tr>\n",
       "  </thead>\n",
       "  <tbody>\n",
       "    <tr>\n",
       "      <th>x_diff</th>\n",
       "      <td>1.000000</td>\n",
       "      <td>0.240186</td>\n",
       "      <td>-0.174465</td>\n",
       "      <td>-0.051725</td>\n",
       "      <td>NaN</td>\n",
       "      <td>NaN</td>\n",
       "      <td>-0.223739</td>\n",
       "      <td>-0.155452</td>\n",
       "      <td>0.179583</td>\n",
       "      <td>0.053242</td>\n",
       "      <td>0.053242</td>\n",
       "      <td>0.083551</td>\n",
       "    </tr>\n",
       "    <tr>\n",
       "      <th>y_diff</th>\n",
       "      <td>0.240186</td>\n",
       "      <td>1.000000</td>\n",
       "      <td>0.296291</td>\n",
       "      <td>-0.058399</td>\n",
       "      <td>NaN</td>\n",
       "      <td>NaN</td>\n",
       "      <td>0.056901</td>\n",
       "      <td>-0.023523</td>\n",
       "      <td>-0.022529</td>\n",
       "      <td>-0.135501</td>\n",
       "      <td>-0.135501</td>\n",
       "      <td>0.331228</td>\n",
       "    </tr>\n",
       "    <tr>\n",
       "      <th>z_diff</th>\n",
       "      <td>-0.174465</td>\n",
       "      <td>0.296291</td>\n",
       "      <td>1.000000</td>\n",
       "      <td>0.162312</td>\n",
       "      <td>NaN</td>\n",
       "      <td>NaN</td>\n",
       "      <td>-0.192248</td>\n",
       "      <td>0.036669</td>\n",
       "      <td>0.061988</td>\n",
       "      <td>0.006336</td>\n",
       "      <td>0.006336</td>\n",
       "      <td>0.006840</td>\n",
       "    </tr>\n",
       "    <tr>\n",
       "      <th>roll_diff</th>\n",
       "      <td>-0.051725</td>\n",
       "      <td>-0.058399</td>\n",
       "      <td>0.162312</td>\n",
       "      <td>1.000000</td>\n",
       "      <td>NaN</td>\n",
       "      <td>NaN</td>\n",
       "      <td>0.031833</td>\n",
       "      <td>0.103561</td>\n",
       "      <td>0.172257</td>\n",
       "      <td>0.114366</td>\n",
       "      <td>0.114366</td>\n",
       "      <td>-0.265279</td>\n",
       "    </tr>\n",
       "    <tr>\n",
       "      <th>pitch_diff</th>\n",
       "      <td>NaN</td>\n",
       "      <td>NaN</td>\n",
       "      <td>NaN</td>\n",
       "      <td>NaN</td>\n",
       "      <td>NaN</td>\n",
       "      <td>NaN</td>\n",
       "      <td>NaN</td>\n",
       "      <td>NaN</td>\n",
       "      <td>NaN</td>\n",
       "      <td>NaN</td>\n",
       "      <td>NaN</td>\n",
       "      <td>NaN</td>\n",
       "    </tr>\n",
       "    <tr>\n",
       "      <th>yaw_diff</th>\n",
       "      <td>NaN</td>\n",
       "      <td>NaN</td>\n",
       "      <td>NaN</td>\n",
       "      <td>NaN</td>\n",
       "      <td>NaN</td>\n",
       "      <td>NaN</td>\n",
       "      <td>NaN</td>\n",
       "      <td>NaN</td>\n",
       "      <td>NaN</td>\n",
       "      <td>NaN</td>\n",
       "      <td>NaN</td>\n",
       "      <td>NaN</td>\n",
       "    </tr>\n",
       "    <tr>\n",
       "      <th>thumb_bend_diff</th>\n",
       "      <td>-0.223739</td>\n",
       "      <td>0.056901</td>\n",
       "      <td>-0.192248</td>\n",
       "      <td>0.031833</td>\n",
       "      <td>NaN</td>\n",
       "      <td>NaN</td>\n",
       "      <td>1.000000</td>\n",
       "      <td>0.158050</td>\n",
       "      <td>-0.178465</td>\n",
       "      <td>-0.080826</td>\n",
       "      <td>-0.080826</td>\n",
       "      <td>0.196259</td>\n",
       "    </tr>\n",
       "    <tr>\n",
       "      <th>pointer_bend_diff</th>\n",
       "      <td>-0.155452</td>\n",
       "      <td>-0.023523</td>\n",
       "      <td>0.036669</td>\n",
       "      <td>0.103561</td>\n",
       "      <td>NaN</td>\n",
       "      <td>NaN</td>\n",
       "      <td>0.158050</td>\n",
       "      <td>1.000000</td>\n",
       "      <td>0.032843</td>\n",
       "      <td>0.018529</td>\n",
       "      <td>0.018529</td>\n",
       "      <td>0.030498</td>\n",
       "    </tr>\n",
       "    <tr>\n",
       "      <th>middle_bend_diff</th>\n",
       "      <td>0.179583</td>\n",
       "      <td>-0.022529</td>\n",
       "      <td>0.061988</td>\n",
       "      <td>0.172257</td>\n",
       "      <td>NaN</td>\n",
       "      <td>NaN</td>\n",
       "      <td>-0.178465</td>\n",
       "      <td>0.032843</td>\n",
       "      <td>1.000000</td>\n",
       "      <td>0.395309</td>\n",
       "      <td>0.395309</td>\n",
       "      <td>-0.135202</td>\n",
       "    </tr>\n",
       "    <tr>\n",
       "      <th>ring_bend_diff</th>\n",
       "      <td>0.053242</td>\n",
       "      <td>-0.135501</td>\n",
       "      <td>0.006336</td>\n",
       "      <td>0.114366</td>\n",
       "      <td>NaN</td>\n",
       "      <td>NaN</td>\n",
       "      <td>-0.080826</td>\n",
       "      <td>0.018529</td>\n",
       "      <td>0.395309</td>\n",
       "      <td>1.000000</td>\n",
       "      <td>1.000000</td>\n",
       "      <td>-0.115068</td>\n",
       "    </tr>\n",
       "    <tr>\n",
       "      <th>pinky_bend_diff</th>\n",
       "      <td>0.053242</td>\n",
       "      <td>-0.135501</td>\n",
       "      <td>0.006336</td>\n",
       "      <td>0.114366</td>\n",
       "      <td>NaN</td>\n",
       "      <td>NaN</td>\n",
       "      <td>-0.080826</td>\n",
       "      <td>0.018529</td>\n",
       "      <td>0.395309</td>\n",
       "      <td>1.000000</td>\n",
       "      <td>1.000000</td>\n",
       "      <td>-0.115068</td>\n",
       "    </tr>\n",
       "    <tr>\n",
       "      <th>is_what</th>\n",
       "      <td>0.083551</td>\n",
       "      <td>0.331228</td>\n",
       "      <td>0.006840</td>\n",
       "      <td>-0.265279</td>\n",
       "      <td>NaN</td>\n",
       "      <td>NaN</td>\n",
       "      <td>0.196259</td>\n",
       "      <td>0.030498</td>\n",
       "      <td>-0.135202</td>\n",
       "      <td>-0.115068</td>\n",
       "      <td>-0.115068</td>\n",
       "      <td>1.000000</td>\n",
       "    </tr>\n",
       "  </tbody>\n",
       "</table>\n",
       "</div>"
      ],
      "text/plain": [
       "                     x_diff    y_diff    z_diff  roll_diff  pitch_diff  \\\n",
       "x_diff             1.000000  0.240186 -0.174465  -0.051725         NaN   \n",
       "y_diff             0.240186  1.000000  0.296291  -0.058399         NaN   \n",
       "z_diff            -0.174465  0.296291  1.000000   0.162312         NaN   \n",
       "roll_diff         -0.051725 -0.058399  0.162312   1.000000         NaN   \n",
       "pitch_diff              NaN       NaN       NaN        NaN         NaN   \n",
       "yaw_diff                NaN       NaN       NaN        NaN         NaN   \n",
       "thumb_bend_diff   -0.223739  0.056901 -0.192248   0.031833         NaN   \n",
       "pointer_bend_diff -0.155452 -0.023523  0.036669   0.103561         NaN   \n",
       "middle_bend_diff   0.179583 -0.022529  0.061988   0.172257         NaN   \n",
       "ring_bend_diff     0.053242 -0.135501  0.006336   0.114366         NaN   \n",
       "pinky_bend_diff    0.053242 -0.135501  0.006336   0.114366         NaN   \n",
       "is_what            0.083551  0.331228  0.006840  -0.265279         NaN   \n",
       "\n",
       "                   yaw_diff  thumb_bend_diff  pointer_bend_diff  \\\n",
       "x_diff                  NaN        -0.223739          -0.155452   \n",
       "y_diff                  NaN         0.056901          -0.023523   \n",
       "z_diff                  NaN        -0.192248           0.036669   \n",
       "roll_diff               NaN         0.031833           0.103561   \n",
       "pitch_diff              NaN              NaN                NaN   \n",
       "yaw_diff                NaN              NaN                NaN   \n",
       "thumb_bend_diff         NaN         1.000000           0.158050   \n",
       "pointer_bend_diff       NaN         0.158050           1.000000   \n",
       "middle_bend_diff        NaN        -0.178465           0.032843   \n",
       "ring_bend_diff          NaN        -0.080826           0.018529   \n",
       "pinky_bend_diff         NaN        -0.080826           0.018529   \n",
       "is_what                 NaN         0.196259           0.030498   \n",
       "\n",
       "                   middle_bend_diff  ring_bend_diff  pinky_bend_diff   is_what  \n",
       "x_diff                     0.179583        0.053242         0.053242  0.083551  \n",
       "y_diff                    -0.022529       -0.135501        -0.135501  0.331228  \n",
       "z_diff                     0.061988        0.006336         0.006336  0.006840  \n",
       "roll_diff                  0.172257        0.114366         0.114366 -0.265279  \n",
       "pitch_diff                      NaN             NaN              NaN       NaN  \n",
       "yaw_diff                        NaN             NaN              NaN       NaN  \n",
       "thumb_bend_diff           -0.178465       -0.080826        -0.080826  0.196259  \n",
       "pointer_bend_diff          0.032843        0.018529         0.018529  0.030498  \n",
       "middle_bend_diff           1.000000        0.395309         0.395309 -0.135202  \n",
       "ring_bend_diff             0.395309        1.000000         1.000000 -0.115068  \n",
       "pinky_bend_diff            0.395309        1.000000         1.000000 -0.115068  \n",
       "is_what                   -0.135202       -0.115068        -0.115068  1.000000  "
      ]
     },
     "execution_count": 13,
     "metadata": {},
     "output_type": "execute_result"
    }
   ],
   "source": [
    "   # very little correlation, except for ring_bend_diff and pinky_bend_diff\n",
    "df.corr()"
   ]
  },
  {
   "cell_type": "code",
   "execution_count": 14,
   "metadata": {
    "collapsed": false
   },
   "outputs": [
    {
     "data": {
      "text/plain": [
       "0"
      ]
     },
     "execution_count": 14,
     "metadata": {},
     "output_type": "execute_result"
    }
   ],
   "source": [
    "df.isnull().sum().sum()"
   ]
  },
  {
   "cell_type": "code",
   "execution_count": 15,
   "metadata": {
    "collapsed": false
   },
   "outputs": [
    {
     "data": {
      "text/plain": [
       "array([[<matplotlib.axes._subplots.AxesSubplot object at 0x11af0a310>,\n",
       "        <matplotlib.axes._subplots.AxesSubplot object at 0x11b5603d0>,\n",
       "        <matplotlib.axes._subplots.AxesSubplot object at 0x11acd6e50>,\n",
       "        <matplotlib.axes._subplots.AxesSubplot object at 0x11ae00550>,\n",
       "        <matplotlib.axes._subplots.AxesSubplot object at 0x11b448ad0>,\n",
       "        <matplotlib.axes._subplots.AxesSubplot object at 0x11b4cec10>,\n",
       "        <matplotlib.axes._subplots.AxesSubplot object at 0x11b6736d0>,\n",
       "        <matplotlib.axes._subplots.AxesSubplot object at 0x11b6fb810>,\n",
       "        <matplotlib.axes._subplots.AxesSubplot object at 0x11b760f10>],\n",
       "       [<matplotlib.axes._subplots.AxesSubplot object at 0x11b7f0150>,\n",
       "        <matplotlib.axes._subplots.AxesSubplot object at 0x11b857850>,\n",
       "        <matplotlib.axes._subplots.AxesSubplot object at 0x11b952b10>,\n",
       "        <matplotlib.axes._subplots.AxesSubplot object at 0x11ba615d0>,\n",
       "        <matplotlib.axes._subplots.AxesSubplot object at 0x11bae3990>,\n",
       "        <matplotlib.axes._subplots.AxesSubplot object at 0x11ba7a250>,\n",
       "        <matplotlib.axes._subplots.AxesSubplot object at 0x11bbdc110>,\n",
       "        <matplotlib.axes._subplots.AxesSubplot object at 0x11bc62310>,\n",
       "        <matplotlib.axes._subplots.AxesSubplot object at 0x11af58790>],\n",
       "       [<matplotlib.axes._subplots.AxesSubplot object at 0x10de74d90>,\n",
       "        <matplotlib.axes._subplots.AxesSubplot object at 0x118120510>,\n",
       "        <matplotlib.axes._subplots.AxesSubplot object at 0x11aeac190>,\n",
       "        <matplotlib.axes._subplots.AxesSubplot object at 0x11ae90f90>,\n",
       "        <matplotlib.axes._subplots.AxesSubplot object at 0x1182c1710>,\n",
       "        <matplotlib.axes._subplots.AxesSubplot object at 0x11ae73e50>,\n",
       "        <matplotlib.axes._subplots.AxesSubplot object at 0x11bcaacd0>,\n",
       "        <matplotlib.axes._subplots.AxesSubplot object at 0x117f7bc50>,\n",
       "        <matplotlib.axes._subplots.AxesSubplot object at 0x117d87a50>],\n",
       "       [<matplotlib.axes._subplots.AxesSubplot object at 0x10dde89d0>,\n",
       "        <matplotlib.axes._subplots.AxesSubplot object at 0x118357390>,\n",
       "        <matplotlib.axes._subplots.AxesSubplot object at 0x1180494d0>,\n",
       "        <matplotlib.axes._subplots.AxesSubplot object at 0x1183ccc90>,\n",
       "        <matplotlib.axes._subplots.AxesSubplot object at 0x118263f50>,\n",
       "        <matplotlib.axes._subplots.AxesSubplot object at 0x117e36a10>,\n",
       "        <matplotlib.axes._subplots.AxesSubplot object at 0x11831cdd0>,\n",
       "        <matplotlib.axes._subplots.AxesSubplot object at 0x10c6ca510>,\n",
       "        <matplotlib.axes._subplots.AxesSubplot object at 0x11bd5acd0>],\n",
       "       [<matplotlib.axes._subplots.AxesSubplot object at 0x11bd97dd0>,\n",
       "        <matplotlib.axes._subplots.AxesSubplot object at 0x11be52a50>,\n",
       "        <matplotlib.axes._subplots.AxesSubplot object at 0x11bed79d0>,\n",
       "        <matplotlib.axes._subplots.AxesSubplot object at 0x11bf49590>,\n",
       "        <matplotlib.axes._subplots.AxesSubplot object at 0x11bfd15d0>,\n",
       "        <matplotlib.axes._subplots.AxesSubplot object at 0x11c021810>,\n",
       "        <matplotlib.axes._subplots.AxesSubplot object at 0x11c0a7950>,\n",
       "        <matplotlib.axes._subplots.AxesSubplot object at 0x11c11b590>,\n",
       "        <matplotlib.axes._subplots.AxesSubplot object at 0x11c19ea10>],\n",
       "       [<matplotlib.axes._subplots.AxesSubplot object at 0x11c15f2d0>,\n",
       "        <matplotlib.axes._subplots.AxesSubplot object at 0x11c296950>,\n",
       "        <matplotlib.axes._subplots.AxesSubplot object at 0x11c31d8d0>,\n",
       "        <matplotlib.axes._subplots.AxesSubplot object at 0x11c3906d0>,\n",
       "        <matplotlib.axes._subplots.AxesSubplot object at 0x11c415650>,\n",
       "        <matplotlib.axes._subplots.AxesSubplot object at 0x11c47afd0>,\n",
       "        <matplotlib.axes._subplots.AxesSubplot object at 0x11c50e150>,\n",
       "        <matplotlib.axes._subplots.AxesSubplot object at 0x11c572910>,\n",
       "        <matplotlib.axes._subplots.AxesSubplot object at 0x11c5f8bd0>],\n",
       "       [<matplotlib.axes._subplots.AxesSubplot object at 0x11c66b690>,\n",
       "        <matplotlib.axes._subplots.AxesSubplot object at 0x11c6f0a50>,\n",
       "        <matplotlib.axes._subplots.AxesSubplot object at 0x11c67aa50>,\n",
       "        <matplotlib.axes._subplots.AxesSubplot object at 0x11c7e9950>,\n",
       "        <matplotlib.axes._subplots.AxesSubplot object at 0x11c819bd0>,\n",
       "        <matplotlib.axes._subplots.AxesSubplot object at 0x11c8e06d0>,\n",
       "        <matplotlib.axes._subplots.AxesSubplot object at 0x11c967650>,\n",
       "        <matplotlib.axes._subplots.AxesSubplot object at 0x11c9d9210>,\n",
       "        <matplotlib.axes._subplots.AxesSubplot object at 0x11ca60250>],\n",
       "       [<matplotlib.axes._subplots.AxesSubplot object at 0x11cac4d90>,\n",
       "        <matplotlib.axes._subplots.AxesSubplot object at 0x11cb49f90>,\n",
       "        <matplotlib.axes._subplots.AxesSubplot object at 0x11cb9a450>,\n",
       "        <matplotlib.axes._subplots.AxesSubplot object at 0x11cc2e350>,\n",
       "        <matplotlib.axes._subplots.AxesSubplot object at 0x11cbe3450>,\n",
       "        <matplotlib.axes._subplots.AxesSubplot object at 0x11cd266d0>,\n",
       "        <matplotlib.axes._subplots.AxesSubplot object at 0x11cdab650>,\n",
       "        <matplotlib.axes._subplots.AxesSubplot object at 0x11ce20510>,\n",
       "        <matplotlib.axes._subplots.AxesSubplot object at 0x11cea6490>],\n",
       "       [<matplotlib.axes._subplots.AxesSubplot object at 0x11cf0ae10>,\n",
       "        <matplotlib.axes._subplots.AxesSubplot object at 0x11cf91f50>,\n",
       "        <matplotlib.axes._subplots.AxesSubplot object at 0x11d005750>,\n",
       "        <matplotlib.axes._subplots.AxesSubplot object at 0x11d089a10>,\n",
       "        <matplotlib.axes._subplots.AxesSubplot object at 0x11d0fc4d0>,\n",
       "        <matplotlib.axes._subplots.AxesSubplot object at 0x11d183890>,\n",
       "        <matplotlib.axes._subplots.AxesSubplot object at 0x11d10cb90>,\n",
       "        <matplotlib.axes._subplots.AxesSubplot object at 0x11d27a790>,\n",
       "        <matplotlib.axes._subplots.AxesSubplot object at 0x11d2aa850>]], dtype=object)"
      ]
     },
     "execution_count": 15,
     "metadata": {},
     "output_type": "execute_result"
    },
    {
     "data": {
      "image/png": "[encoded data removed]",
      "text/plain": [
       "<matplotlib.figure.Figure at 0x11af7fd50>"
      ]
     },
     "metadata": {},
     "output_type": "display_data"
    }
   ],
   "source": [
    "    # took out pitch and yaw because always 0\n",
    "pd.tools.plotting.scatter_matrix(\n",
    "    df[ ['x_diff','y_diff','z_diff', 'roll_diff',\\\n",
    "         #'pitch_diff','yaw_diff', \\\n",
    "           'thumb_bend_diff','pointer_bend_diff','middle_bend_diff','ring_bend_diff', \\\n",
    "           #,'pinky_bend_diff', \\\n",
    "      'is_what'] ],\n",
    "    diagonal = 'kde', s = 75, figsize = (12, 12))"
   ]
  },
  {
   "cell_type": "code",
   "execution_count": 16,
   "metadata": {
    "collapsed": false
   },
   "outputs": [
    {
     "data": {
      "text/html": [
       "<div>\n",
       "<table border=\"1\" class=\"dataframe\">\n",
       "  <thead>\n",
       "    <tr style=\"text-align: right;\">\n",
       "      <th></th>\n",
       "      <th>x_diff</th>\n",
       "      <th>y_diff</th>\n",
       "      <th>z_diff</th>\n",
       "      <th>roll_diff</th>\n",
       "      <th>pitch_diff</th>\n",
       "      <th>yaw_diff</th>\n",
       "      <th>thumb_bend_diff</th>\n",
       "      <th>pointer_bend_diff</th>\n",
       "      <th>middle_bend_diff</th>\n",
       "      <th>ring_bend_diff</th>\n",
       "      <th>pinky_bend_diff</th>\n",
       "    </tr>\n",
       "    <tr>\n",
       "      <th>is_what</th>\n",
       "      <th></th>\n",
       "      <th></th>\n",
       "      <th></th>\n",
       "      <th></th>\n",
       "      <th></th>\n",
       "      <th></th>\n",
       "      <th></th>\n",
       "      <th></th>\n",
       "      <th></th>\n",
       "      <th></th>\n",
       "      <th></th>\n",
       "    </tr>\n",
       "  </thead>\n",
       "  <tbody>\n",
       "    <tr>\n",
       "      <th>0</th>\n",
       "      <td>0.080480</td>\n",
       "      <td>0.352104</td>\n",
       "      <td>0.040737</td>\n",
       "      <td>0.235357</td>\n",
       "      <td>0.0</td>\n",
       "      <td>0.0</td>\n",
       "      <td>-0.025893</td>\n",
       "      <td>0.690000</td>\n",
       "      <td>0.394643</td>\n",
       "      <td>0.274821</td>\n",
       "      <td>0.274821</td>\n",
       "    </tr>\n",
       "    <tr>\n",
       "      <th>1</th>\n",
       "      <td>0.104464</td>\n",
       "      <td>0.526060</td>\n",
       "      <td>0.041490</td>\n",
       "      <td>0.125893</td>\n",
       "      <td>0.0</td>\n",
       "      <td>0.0</td>\n",
       "      <td>0.085714</td>\n",
       "      <td>0.700893</td>\n",
       "      <td>0.283929</td>\n",
       "      <td>0.161607</td>\n",
       "      <td>0.161607</td>\n",
       "    </tr>\n",
       "  </tbody>\n",
       "</table>\n",
       "</div>"
      ],
      "text/plain": [
       "           x_diff    y_diff    z_diff  roll_diff  pitch_diff  yaw_diff  \\\n",
       "is_what                                                                  \n",
       "0        0.080480  0.352104  0.040737   0.235357         0.0       0.0   \n",
       "1        0.104464  0.526060  0.041490   0.125893         0.0       0.0   \n",
       "\n",
       "         thumb_bend_diff  pointer_bend_diff  middle_bend_diff  ring_bend_diff  \\\n",
       "is_what                                                                         \n",
       "0              -0.025893           0.690000          0.394643        0.274821   \n",
       "1               0.085714           0.700893          0.283929        0.161607   \n",
       "\n",
       "         pinky_bend_diff  \n",
       "is_what                   \n",
       "0               0.274821  \n",
       "1               0.161607  "
      ]
     },
     "execution_count": 16,
     "metadata": {},
     "output_type": "execute_result"
    }
   ],
   "source": [
    "df.groupby('is_what').mean()"
   ]
  },
  {
   "cell_type": "markdown",
   "metadata": {},
   "source": [
    "## Logistic Regression with Statsmodel"
   ]
  },
  {
   "cell_type": "code",
   "execution_count": 17,
   "metadata": {
    "collapsed": false
   },
   "outputs": [
    {
     "name": "stdout",
     "output_type": "stream",
     "text": [
      "Optimization terminated successfully.\n",
      "         Current function value: 0.321921\n",
      "         Iterations 8\n",
      "                           Logit Regression Results                           \n",
      "==============================================================================\n",
      "Dep. Variable:                is_what   No. Observations:                  420\n",
      "Model:                          Logit   Df Residuals:                      412\n",
      "Method:                           MLE   Df Model:                            7\n",
      "Date:                Sun, 18 Jun 2017   Pseudo R-squ.:                  0.2855\n",
      "Time:                        11:15:08   Log-Likelihood:                -135.21\n",
      "converged:                       True   LL-Null:                       -189.24\n",
      "                                        LLR p-value:                 2.321e-20\n",
      "=====================================================================================\n",
      "                        coef    std err          z      P>|z|      [0.025      0.975]\n",
      "-------------------------------------------------------------------------------------\n",
      "x_diff               -1.2222      1.946     -0.628      0.530      -5.037       2.592\n",
      "y_diff                6.2081      1.228      5.057      0.000       3.802       8.614\n",
      "z_diff                9.1635      4.823      1.900      0.057      -0.289      18.616\n",
      "roll_diff            -9.1834      1.505     -6.101      0.000     -12.134      -6.233\n",
      "thumb_bend_diff       5.2929      1.165      4.544      0.000       3.010       7.576\n",
      "pointer_bend_diff    -3.9187      0.681     -5.757      0.000      -5.253      -2.584\n",
      "middle_bend_diff     -1.3394      0.580     -2.307      0.021      -2.477      -0.202\n",
      "ring_bend_diff       -0.3706      0.500     -0.742      0.458      -1.350       0.608\n",
      "=====================================================================================\n"
     ]
    }
   ],
   "source": [
    "import statsmodels.api as sm\n",
    "\n",
    "X = df[['x_diff','y_diff','z_diff', 'roll_diff',\\\n",
    "           'thumb_bend_diff','pointer_bend_diff','middle_bend_diff','ring_bend_diff']]\n",
    "Y = df[['is_what']]\n",
    "\n",
    "model = sm.Logit(Y,X)\n",
    "result = model.fit()\n",
    "print result.summary()"
   ]
  },
  {
   "cell_type": "code",
   "execution_count": 18,
   "metadata": {
    "collapsed": false
   },
   "outputs": [
    {
     "name": "stdout",
     "output_type": "stream",
     "text": [
      "Optimization terminated successfully.\n",
      "         Current function value: 0.322400\n",
      "         Iterations 8\n",
      "                           Logit Regression Results                           \n",
      "==============================================================================\n",
      "Dep. Variable:                is_what   No. Observations:                  420\n",
      "Model:                          Logit   Df Residuals:                      413\n",
      "Method:                           MLE   Df Model:                            6\n",
      "Date:                Sun, 18 Jun 2017   Pseudo R-squ.:                  0.2844\n",
      "Time:                        11:15:08   Log-Likelihood:                -135.41\n",
      "converged:                       True   LL-Null:                       -189.24\n",
      "                                        LLR p-value:                 6.309e-21\n",
      "=====================================================================================\n",
      "                        coef    std err          z      P>|z|      [0.025      0.975]\n",
      "-------------------------------------------------------------------------------------\n",
      "y_diff                5.8019      1.028      5.645      0.000       3.787       7.816\n",
      "z_diff                9.9899      4.654      2.147      0.032       0.868      19.112\n",
      "roll_diff            -9.1247      1.496     -6.101      0.000     -12.056      -6.193\n",
      "thumb_bend_diff       5.3212      1.154      4.610      0.000       3.059       7.583\n",
      "pointer_bend_diff    -3.8381      0.664     -5.779      0.000      -5.140      -2.536\n",
      "middle_bend_diff     -1.3822      0.576     -2.402      0.016      -2.510      -0.254\n",
      "ring_bend_diff       -0.3750      0.500     -0.750      0.453      -1.354       0.604\n",
      "=====================================================================================\n"
     ]
    }
   ],
   "source": [
    "   # take out x_diff\n",
    "X = df[['y_diff','z_diff', 'roll_diff',\\\n",
    "           'thumb_bend_diff','pointer_bend_diff','middle_bend_diff','ring_bend_diff']]\n",
    "Y = df[['is_what']]\n",
    "\n",
    "model = sm.Logit(Y,X)\n",
    "result = model.fit()\n",
    "print result.summary()"
   ]
  },
  {
   "cell_type": "code",
   "execution_count": 19,
   "metadata": {
    "collapsed": false
   },
   "outputs": [
    {
     "name": "stdout",
     "output_type": "stream",
     "text": [
      "Optimization terminated successfully.\n",
      "         Current function value: 0.323074\n",
      "         Iterations 8\n",
      "                           Logit Regression Results                           \n",
      "==============================================================================\n",
      "Dep. Variable:                is_what   No. Observations:                  420\n",
      "Model:                          Logit   Df Residuals:                      414\n",
      "Method:                           MLE   Df Model:                            5\n",
      "Date:                Sun, 18 Jun 2017   Pseudo R-squ.:                  0.2830\n",
      "Time:                        11:15:08   Log-Likelihood:                -135.69\n",
      "converged:                       True   LL-Null:                       -189.24\n",
      "                                        LLR p-value:                 1.688e-21\n",
      "=====================================================================================\n",
      "                        coef    std err          z      P>|z|      [0.025      0.975]\n",
      "-------------------------------------------------------------------------------------\n",
      "y_diff                5.7671      1.023      5.640      0.000       3.763       7.771\n",
      "z_diff                9.8718      4.644      2.126      0.034       0.770      18.974\n",
      "roll_diff            -9.1469      1.496     -6.116      0.000     -12.078      -6.215\n",
      "thumb_bend_diff       5.4451      1.152      4.727      0.000       3.188       7.703\n",
      "pointer_bend_diff    -3.8364      0.659     -5.820      0.000      -5.128      -2.545\n",
      "middle_bend_diff     -1.5508      0.530     -2.929      0.003      -2.589      -0.513\n",
      "=====================================================================================\n"
     ]
    }
   ],
   "source": [
    "   # take out ring_bend_diff  now all statistically significant\n",
    "X = df[['y_diff', 'z_diff','roll_diff',\\\n",
    "           'thumb_bend_diff','pointer_bend_diff','middle_bend_diff',]]\n",
    "Y = df[['is_what']]\n",
    "\n",
    "model = sm.Logit(Y,X)\n",
    "result = model.fit()\n",
    "print result.summary()"
   ]
  },
  {
   "cell_type": "markdown",
   "metadata": {},
   "source": [
    "## Logistic Regression with scikit learn"
   ]
  },
  {
   "cell_type": "markdown",
   "metadata": {},
   "source": [
    "### Feature Selection"
   ]
  },
  {
   "cell_type": "code",
   "execution_count": 25,
   "metadata": {
    "collapsed": false
   },
   "outputs": [
    {
     "name": "stdout",
     "output_type": "stream",
     "text": [
      "[ True  True False  True  True False  True  True]\n",
      "[1 1 3 1 1 2 1 1]\n"
     ]
    }
   ],
   "source": [
    "from sklearn import datasets\n",
    "from sklearn.feature_selection import RFE\n",
    "from sklearn.linear_model import LogisticRegression\n",
    "\n",
    "X = df[['x_diff','y_diff','z_diff','roll_diff', \\\n",
    "                 'thumb_bend_diff','pointer_bend_diff','middle_bend_diff','ring_bend_diff', \\\n",
    "                 ]]\n",
    "Y = df['is_what']\n",
    "\n",
    "model = LogisticRegression()\n",
    "   # chose 6 variables:  x_diff, y_diff, roll_diff, thumb_bend_diff, middle_bend_diff, ring_bend_diff\n",
    "    # statsmodel agrees\n",
    "rfe = RFE(model,6)\n",
    "rfe = rfe.fit(X,Y)\n",
    "print rfe.support_\n",
    "print rfe.ranking_"
   ]
  },
  {
   "cell_type": "code",
   "execution_count": 26,
   "metadata": {
    "collapsed": false
   },
   "outputs": [
    {
     "name": "stdout",
     "output_type": "stream",
     "text": [
      "[-1.91872388]\n",
      "[('x_diff', 0.45076409089645231), ('y_diff', 3.2225053094116083), ('z_diff', 0.14719877337400852), ('roll_diff', -2.9617611937260153), ('thumb_bend_diff', 2.0788544526370067), ('pointer_bend_diff', -0.25609353122411821), ('middle_bend_diff', -0.8421031624033789), ('ring_bend_diff', -0.33772847344594331)]\n"
     ]
    }
   ],
   "source": [
    "from sklearn import linear_model\n",
    "\n",
    "X = df[['x_diff','y_diff','z_diff','roll_diff', \\\n",
    "                 'thumb_bend_diff','pointer_bend_diff','middle_bend_diff','ring_bend_diff', \\\n",
    "                 ]]\n",
    "Y = df['is_what']\n",
    "\n",
    "model = linear_model.LogisticRegression().fit(X, Y)\n",
    "\n",
    "print model.intercept_\n",
    "print zip(X.columns, model.coef_[0])"
   ]
  },
  {
   "cell_type": "code",
   "execution_count": 27,
   "metadata": {
    "collapsed": false
   },
   "outputs": [
    {
     "data": {
      "text/plain": [
       "0.83809523809523812"
      ]
     },
     "execution_count": 27,
     "metadata": {},
     "output_type": "execute_result"
    }
   ],
   "source": [
    "   #  what appears 17% of the time, so this score is not much better than always choosing Not What.\n",
    "    # 0.83809523809523812 \n",
    "model.score(X,Y)"
   ]
  },
  {
   "cell_type": "markdown",
   "metadata": {},
   "source": [
    "## Cross validation"
   ]
  },
  {
   "cell_type": "code",
   "execution_count": 28,
   "metadata": {
    "collapsed": false
   },
   "outputs": [
    {
     "data": {
      "text/plain": [
       "0.83095238095238089"
      ]
     },
     "execution_count": 28,
     "metadata": {},
     "output_type": "execute_result"
    }
   ],
   "source": [
    "from sklearn import model_selection\n",
    "   # 0.83095238095238089 if take all variables\n",
    "model_selection.cross_val_score(model, X , Y, cv= 5).mean()\n"
   ]
  },
  {
   "cell_type": "markdown",
   "metadata": {},
   "source": [
    "## Model Performance"
   ]
  },
  {
   "cell_type": "code",
   "execution_count": 30,
   "metadata": {
    "collapsed": false
   },
   "outputs": [
    {
     "data": {
      "text/html": [
       "<div>\n",
       "<table border=\"1\" class=\"dataframe\">\n",
       "  <thead>\n",
       "    <tr style=\"text-align: right;\">\n",
       "      <th>True Class</th>\n",
       "      <th>0</th>\n",
       "      <th>1</th>\n",
       "    </tr>\n",
       "    <tr>\n",
       "      <th>Hypothesized Class</th>\n",
       "      <th></th>\n",
       "      <th></th>\n",
       "    </tr>\n",
       "  </thead>\n",
       "  <tbody>\n",
       "    <tr>\n",
       "      <th>0</th>\n",
       "      <td>349</td>\n",
       "      <td>1</td>\n",
       "    </tr>\n",
       "    <tr>\n",
       "      <th>1</th>\n",
       "      <td>67</td>\n",
       "      <td>3</td>\n",
       "    </tr>\n",
       "  </tbody>\n",
       "</table>\n",
       "</div>"
      ],
      "text/plain": [
       "True Class            0  1\n",
       "Hypothesized Class        \n",
       "0                   349  1\n",
       "1                    67  3"
      ]
     },
     "execution_count": 30,
     "metadata": {},
     "output_type": "execute_result"
    }
   ],
   "source": [
    "Y_hat = model.predict(X)\n",
    "\n",
    "pd.crosstab(Y,\n",
    "    Y_hat,\n",
    "    rownames = ['Hypothesized Class'],\n",
    "    colnames = ['True Class'])"
   ]
  },
  {
   "cell_type": "code",
   "execution_count": 33,
   "metadata": {
    "collapsed": false
   },
   "outputs": [
    {
     "data": {
      "text/plain": [
       "GridSearchCV(cv=KFold(n_splits=5, random_state=3, shuffle=True),\n",
       "       error_score='raise',\n",
       "       estimator=LogisticRegression(C=1.0, class_weight=None, dual=False, fit_intercept=True,\n",
       "          intercept_scaling=1, max_iter=100, multi_class='ovr', n_jobs=1,\n",
       "          penalty='l2', random_state=None, solver='liblinear', tol=0.0001,\n",
       "          verbose=0, warm_start=False),\n",
       "       fit_params={}, iid=True, n_jobs=1,\n",
       "       param_grid={'penalty': ['l1'], 'C': array([  1.00000e-10,   1.00000e-09,   1.00000e-08,   1.00000e-07,\n",
       "         1.00000e-06,   1.00000e-05,   1.00000e-04,   1.00000e-03,\n",
       "         1.00000e-02,   1.00000e-01,   1.00000e+00,   1.00000e+01,\n",
       "         1.00000e+02,   1.00000e+03,   1.00000e+04,   1.00000e+05,\n",
       "         1.00000e+06,   1.00000e+07,   1.00000e+08,   1.00000e+09,\n",
       "         1.00000e+10])},\n",
       "       pre_dispatch='2*n_jobs', refit=True, return_train_score=True,\n",
       "       scoring=None, verbose=0)"
      ]
     },
     "execution_count": 33,
     "metadata": {},
     "output_type": "execute_result"
    }
   ],
   "source": [
    "   # normalization and grid search\n",
    "scaler = preprocessing.MinMaxScaler().fit(X)\n",
    "\n",
    "X = pd.DataFrame(scaler.transform(X), columns = X.columns)\n",
    "\n",
    "gs = model_selection.GridSearchCV(\n",
    "    estimator = linear_model.LogisticRegression(),\n",
    "    param_grid = {'C': np.logspace(-10, 10, 21), 'penalty': ['l1']},\n",
    "    cv = model_selection.KFold(n_splits = 5, shuffle = True, random_state = 3)\n",
    ")\n",
    "\n",
    "gs.fit(X, Y)"
   ]
  },
  {
   "cell_type": "code",
   "execution_count": 34,
   "metadata": {
    "collapsed": false
   },
   "outputs": [
    {
     "data": {
      "text/plain": [
       "{'C': 100.0, 'penalty': 'l1'}"
      ]
     },
     "execution_count": 34,
     "metadata": {},
     "output_type": "execute_result"
    }
   ],
   "source": [
    "gs.best_params_"
   ]
  },
  {
   "cell_type": "code",
   "execution_count": 35,
   "metadata": {
    "collapsed": false
   },
   "outputs": [
    {
     "data": {
      "text/plain": [
       "LogisticRegression(C=100.0, class_weight=None, dual=False, fit_intercept=True,\n",
       "          intercept_scaling=1, max_iter=100, multi_class='ovr', n_jobs=1,\n",
       "          penalty='l1', random_state=None, solver='liblinear', tol=0.0001,\n",
       "          verbose=0, warm_start=False)"
      ]
     },
     "execution_count": 35,
     "metadata": {},
     "output_type": "execute_result"
    }
   ],
   "source": [
    "gs.best_estimator_"
   ]
  },
  {
   "cell_type": "code",
   "execution_count": 36,
   "metadata": {
    "collapsed": false
   },
   "outputs": [
    {
     "name": "stdout",
     "output_type": "stream",
     "text": [
      "[-8.83603748]\n",
      "[('x_diff', 0.87160684123412469), ('y_diff', 7.5142623507375825), ('z_diff', 2.4597486327178437), ('roll_diff', -9.0331465248806158), ('thumb_bend_diff', 8.5659524739514072), ('pointer_bend_diff', 1.0562048359562952), ('middle_bend_diff', -1.8631831962639211), ('ring_bend_diff', -0.27758253043725756)]\n"
     ]
    }
   ],
   "source": [
    "model = gs.best_estimator_.fit(X, Y)\n",
    "print model.intercept_\n",
    "print zip(X.columns, model.coef_[0])"
   ]
  },
  {
   "cell_type": "code",
   "execution_count": null,
   "metadata": {
    "collapsed": true
   },
   "outputs": [],
   "source": []
  }
 ],
 "metadata": {
  "kernelspec": {
   "display_name": "Python 2",
   "language": "python",
   "name": "python2"
  },
  "language_info": {
   "codemirror_mode": {
    "name": "ipython",
    "version": 2
   },
   "file_extension": ".py",
   "mimetype": "text/x-python",
   "name": "python",
   "nbconvert_exporter": "python",
   "pygments_lexer": "ipython2",
   "version": "2.7.13"
  }
 },
 "nbformat": 4,
 "nbformat_minor": 2
}
