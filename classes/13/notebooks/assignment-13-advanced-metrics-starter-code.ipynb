{
 "cells": [
  {
   "cell_type": "markdown",
   "metadata": {},
   "source": [
    "# DS-SF-34 | 13 | Advanced Metrics | Assignment | Starter Code"
   ]
  },
  {
   "cell_type": "markdown",
   "metadata": {},
   "source": [
    "## Myopia"
   ]
  },
  {
   "cell_type": "code",
   "execution_count": 1,
   "metadata": {
    "collapsed": false
   },
   "outputs": [],
   "source": [
    "import os\n",
    "\n",
    "import numpy as np\n",
    "import pandas as pd\n",
    "pd.set_option('display.max_rows', 10)\n",
    "pd.set_option('display.notebook_repr_html', True)\n",
    "pd.set_option('display.max_columns', 10)\n",
    "\n",
    "import statsmodels.api as sm\n",
    "import statsmodels.formula.api as smf\n",
    "\n",
    "\n",
    "from sklearn import preprocessing, linear_model, model_selection, metrics\n",
    "from sklearn.model_selection import cross_val_score\n",
    "\n",
    "# TODO model_selection\n",
    "\n",
    "import matplotlib.pyplot as plt\n",
    "%matplotlib inline\n",
    "plt.style.use('ggplot')"
   ]
  },
  {
   "cell_type": "markdown",
   "metadata": {},
   "source": [
    "In this assignment, we will be looking at what contributes to myopia (i.e., nearsightedness) the most.  My parents always told me not to watch TV or play video game as it will affect negatively my vision.  (They were strangely fine with studying!).  But we are data scientists now, so let's go and explain myopia!"
   ]
  },
  {
   "cell_type": "code",
   "execution_count": 2,
   "metadata": {
    "collapsed": true
   },
   "outputs": [],
   "source": [
    "df = pd.read_csv(os.path.join('..', 'datasets', 'dataset-13-myopia.csv'))"
   ]
  },
  {
   "cell_type": "code",
   "execution_count": 3,
   "metadata": {
    "collapsed": false
   },
   "outputs": [
    {
     "data": {
      "text/html": [
       "<div>\n",
       "<table border=\"1\" class=\"dataframe\">\n",
       "  <thead>\n",
       "    <tr style=\"text-align: right;\">\n",
       "      <th></th>\n",
       "      <th>ID</th>\n",
       "      <th>STUDYYEAR</th>\n",
       "      <th>MYOPIC</th>\n",
       "      <th>AGE</th>\n",
       "      <th>GENDER</th>\n",
       "      <th>...</th>\n",
       "      <th>STUDYHR</th>\n",
       "      <th>TVHR</th>\n",
       "      <th>DIOPTERHR</th>\n",
       "      <th>MOMMY</th>\n",
       "      <th>DADMY</th>\n",
       "    </tr>\n",
       "  </thead>\n",
       "  <tbody>\n",
       "    <tr>\n",
       "      <th>0</th>\n",
       "      <td>1</td>\n",
       "      <td>1992</td>\n",
       "      <td>1</td>\n",
       "      <td>6</td>\n",
       "      <td>1</td>\n",
       "      <td>...</td>\n",
       "      <td>0</td>\n",
       "      <td>10</td>\n",
       "      <td>34</td>\n",
       "      <td>1</td>\n",
       "      <td>1</td>\n",
       "    </tr>\n",
       "    <tr>\n",
       "      <th>1</th>\n",
       "      <td>2</td>\n",
       "      <td>1995</td>\n",
       "      <td>0</td>\n",
       "      <td>6</td>\n",
       "      <td>1</td>\n",
       "      <td>...</td>\n",
       "      <td>1</td>\n",
       "      <td>7</td>\n",
       "      <td>12</td>\n",
       "      <td>1</td>\n",
       "      <td>1</td>\n",
       "    </tr>\n",
       "    <tr>\n",
       "      <th>2</th>\n",
       "      <td>3</td>\n",
       "      <td>1991</td>\n",
       "      <td>0</td>\n",
       "      <td>6</td>\n",
       "      <td>1</td>\n",
       "      <td>...</td>\n",
       "      <td>0</td>\n",
       "      <td>10</td>\n",
       "      <td>14</td>\n",
       "      <td>0</td>\n",
       "      <td>0</td>\n",
       "    </tr>\n",
       "    <tr>\n",
       "      <th>3</th>\n",
       "      <td>4</td>\n",
       "      <td>1990</td>\n",
       "      <td>1</td>\n",
       "      <td>6</td>\n",
       "      <td>1</td>\n",
       "      <td>...</td>\n",
       "      <td>0</td>\n",
       "      <td>4</td>\n",
       "      <td>37</td>\n",
       "      <td>0</td>\n",
       "      <td>1</td>\n",
       "    </tr>\n",
       "    <tr>\n",
       "      <th>4</th>\n",
       "      <td>5</td>\n",
       "      <td>1995</td>\n",
       "      <td>0</td>\n",
       "      <td>5</td>\n",
       "      <td>0</td>\n",
       "      <td>...</td>\n",
       "      <td>0</td>\n",
       "      <td>4</td>\n",
       "      <td>4</td>\n",
       "      <td>1</td>\n",
       "      <td>0</td>\n",
       "    </tr>\n",
       "    <tr>\n",
       "      <th>...</th>\n",
       "      <td>...</td>\n",
       "      <td>...</td>\n",
       "      <td>...</td>\n",
       "      <td>...</td>\n",
       "      <td>...</td>\n",
       "      <td>...</td>\n",
       "      <td>...</td>\n",
       "      <td>...</td>\n",
       "      <td>...</td>\n",
       "      <td>...</td>\n",
       "      <td>...</td>\n",
       "    </tr>\n",
       "    <tr>\n",
       "      <th>613</th>\n",
       "      <td>614</td>\n",
       "      <td>1995</td>\n",
       "      <td>1</td>\n",
       "      <td>6</td>\n",
       "      <td>0</td>\n",
       "      <td>...</td>\n",
       "      <td>3</td>\n",
       "      <td>14</td>\n",
       "      <td>37</td>\n",
       "      <td>1</td>\n",
       "      <td>0</td>\n",
       "    </tr>\n",
       "    <tr>\n",
       "      <th>614</th>\n",
       "      <td>615</td>\n",
       "      <td>1993</td>\n",
       "      <td>0</td>\n",
       "      <td>6</td>\n",
       "      <td>1</td>\n",
       "      <td>...</td>\n",
       "      <td>0</td>\n",
       "      <td>8</td>\n",
       "      <td>10</td>\n",
       "      <td>1</td>\n",
       "      <td>1</td>\n",
       "    </tr>\n",
       "    <tr>\n",
       "      <th>615</th>\n",
       "      <td>616</td>\n",
       "      <td>1995</td>\n",
       "      <td>0</td>\n",
       "      <td>6</td>\n",
       "      <td>0</td>\n",
       "      <td>...</td>\n",
       "      <td>0</td>\n",
       "      <td>4</td>\n",
       "      <td>4</td>\n",
       "      <td>1</td>\n",
       "      <td>1</td>\n",
       "    </tr>\n",
       "    <tr>\n",
       "      <th>616</th>\n",
       "      <td>617</td>\n",
       "      <td>1991</td>\n",
       "      <td>0</td>\n",
       "      <td>6</td>\n",
       "      <td>1</td>\n",
       "      <td>...</td>\n",
       "      <td>0</td>\n",
       "      <td>15</td>\n",
       "      <td>23</td>\n",
       "      <td>0</td>\n",
       "      <td>0</td>\n",
       "    </tr>\n",
       "    <tr>\n",
       "      <th>617</th>\n",
       "      <td>618</td>\n",
       "      <td>1994</td>\n",
       "      <td>0</td>\n",
       "      <td>6</td>\n",
       "      <td>0</td>\n",
       "      <td>...</td>\n",
       "      <td>0</td>\n",
       "      <td>10</td>\n",
       "      <td>14</td>\n",
       "      <td>1</td>\n",
       "      <td>1</td>\n",
       "    </tr>\n",
       "  </tbody>\n",
       "</table>\n",
       "<p>618 rows × 18 columns</p>\n",
       "</div>"
      ],
      "text/plain": [
       "      ID  STUDYYEAR  MYOPIC  AGE  GENDER  ...    STUDYHR  TVHR  DIOPTERHR  \\\n",
       "0      1       1992       1    6       1  ...          0    10         34   \n",
       "1      2       1995       0    6       1  ...          1     7         12   \n",
       "2      3       1991       0    6       1  ...          0    10         14   \n",
       "3      4       1990       1    6       1  ...          0     4         37   \n",
       "4      5       1995       0    5       0  ...          0     4          4   \n",
       "..   ...        ...     ...  ...     ...  ...        ...   ...        ...   \n",
       "613  614       1995       1    6       0  ...          3    14         37   \n",
       "614  615       1993       0    6       1  ...          0     8         10   \n",
       "615  616       1995       0    6       0  ...          0     4          4   \n",
       "616  617       1991       0    6       1  ...          0    15         23   \n",
       "617  618       1994       0    6       0  ...          0    10         14   \n",
       "\n",
       "     MOMMY  DADMY  \n",
       "0        1      1  \n",
       "1        1      1  \n",
       "2        0      0  \n",
       "3        0      1  \n",
       "4        1      0  \n",
       "..     ...    ...  \n",
       "613      1      0  \n",
       "614      1      1  \n",
       "615      1      1  \n",
       "616      0      0  \n",
       "617      1      1  \n",
       "\n",
       "[618 rows x 18 columns]"
      ]
     },
     "execution_count": 3,
     "metadata": {},
     "output_type": "execute_result"
    }
   ],
   "source": [
    "df"
   ]
  },
  {
   "cell_type": "code",
   "execution_count": 4,
   "metadata": {
    "collapsed": false
   },
   "outputs": [
    {
     "data": {
      "text/plain": [
       "0"
      ]
     },
     "execution_count": 4,
     "metadata": {},
     "output_type": "execute_result"
    }
   ],
   "source": [
    "# TODO\n",
    "df.isnull().sum().sum()"
   ]
  },
  {
   "cell_type": "markdown",
   "metadata": {},
   "source": [
    "Here's the data dictionnary for this dataset:\n",
    "\n",
    "| Variable Name | Variable Description | Values/Labels |\n",
    "|:---|:---|:---|\n",
    "| `ID` | Subject identifier | Integer (range 1-1503) |\n",
    "| `STUDYYEAR` | Year subject entered the study | Year |\n",
    "| `MYOPIC` | Myopia within the first 5 yr of follow up<sup>(a)</sup> | `0 = No`, `1 = Yes` |\n",
    "| `AGE` | Age at first visit | Years |\n",
    "| `GENDER` | Gender | `0 = Male`, `1 = Female` |\n",
    "| `SPHEQ` | Spherical equivalent refraction<sup>(b)</sup> | Diopter |\n",
    "| `AL` | Axial length<sup>(c)</sup> | mm |\n",
    "| `ACD` | Anterior chamber depth<sup>(d)</sup> | mm |\n",
    "| `LT` | Lens thickness<sup>(e)</sup> | mm |\n",
    "| `VCD` | Vitreous chamber depth<sup>(f)</sup> | mm |\n",
    "| `SPORTHR` | How many hours per week outside of school the child spent engaging in sports/outdoor activities | Hours per week |\n",
    "| `READHR` | How many hours per week outside of school the child spent reading for pleasure | Hours per week |\n",
    "| `COMPHR` | How many hours per week outside of school the child spent playing video/computer games or working on the computer | Hours per week |\n",
    "| `STUDYHR` | How many hours per week outside of school the child spent reading or studying for school assignments | Hours per week |\n",
    "| `TVHR` | How many hours per week outside of school the child spent watching television | Hours per week |\n",
    "| `DIOPTERHR` | Composite of near-work activities | Hours per week  |\n",
    "| `MOMMY` | Was the subject's mother myopic?<sup>g</sup> | `0 = No`, `1 = Yes` |\n",
    "| `DADMY` | Was the subject's father myopic? | `0 = No`, `1 = Yes` |\n",
    "<sup>(a)</sup> MYOPIC is defined as SPHEQ <= -0.75D<br>\n",
    "<sup>(b)</sup> A measure of the eye's effective focusing power.  Eyes that are \"normal\" (don't require glasses or contact lenses) have spherical equivalents between -0.25 diopters (D) and +1.00 D. The more negative the spherical equivalent, the more myopic the subject<br>\n",
    "<sup>(c)</sup> The length of eye from front to back<br>\n",
    "<sup>(d)</sup> The length from front to back of the aqueous-containing space of the eye between the cornea and the iris<br>\n",
    "<sup>(e)</sup> The length from front to back of the crystalline lens<br>\n",
    "<sup>(f)</sup> The length from front to back of the aqueous-containing space of the eye in front of the retina<br>\n",
    "<sup>(g)</sup> DIOPTERHR = 3 * (READHR + STUDYHR) + 2 * COMPHR + TVHR"
   ]
  },
  {
   "cell_type": "markdown",
   "metadata": {},
   "source": [
    "> ### Question 1.  `ID` and `STUDYYEAR` do not predict myopia.  Disregard them.  Then, consider two types of inputs.  First, all general inputs (i.e., physical and external inputs) as `X1`.  Second, only the external inputs as `X2`.  Finally, define the response vector `c`"
   ]
  },
  {
   "cell_type": "code",
   "execution_count": 5,
   "metadata": {
    "collapsed": false
   },
   "outputs": [],
   "source": [
    "names_X1 = ['AGE', 'GENDER', 'SPHEQ',\n",
    "    'AL', 'ACD', 'LT','VCD', \n",
    "    'SPORTHR', 'READHR', 'COMPHR', 'STUDYHR', 'TVHR', 'DIOPTERHR',\n",
    "    'MOMMY', 'DADMY']\n",
    "train_X1 = df[names_X1]\n",
    "\n",
    "names_X2 = ['AGE','GENDER', 'SPORTHR', 'READHR', 'COMPHR', 'STUDYHR', 'TVHR', 'DIOPTERHR',\n",
    "    'MOMMY', 'DADMY']\n",
    "train_X2 = df[names_X2]\n",
    "\n",
    "train_c = df.MYOPIC\n"
   ]
  },
  {
   "cell_type": "markdown",
   "metadata": {},
   "source": [
    "> ### Question 2.  Run your regression line on `X1` and interpret the `MOMMY` and `DADMY` coefficients"
   ]
  },
  {
   "cell_type": "code",
   "execution_count": 6,
   "metadata": {
    "collapsed": false
   },
   "outputs": [
    {
     "data": {
      "text/plain": [
       "[('AGE', 0.0037974306150880821),\n",
       " ('GENDER', 0.70958589944442108),\n",
       " ('SPHEQ', -0.96643442423993131),\n",
       " ('AL', 0.12309359832050815),\n",
       " ('ACD', 1.1653281644479518),\n",
       " ('LT', -0.26803332183280615),\n",
       " ('VCD', -0.27822137363238242),\n",
       " ('SPORTHR', -0.04628950581333946),\n",
       " ('READHR', 0.10256772929489655),\n",
       " ('COMPHR', 0.051437668697488226),\n",
       " ('STUDYHR', -0.12387610496817558),\n",
       " ('TVHR', -0.0043767484834950077),\n",
       " ('DIOPTERHR', -0.0078564772094251722),\n",
       " ('MOMMY', 0.89457763262528589),\n",
       " ('DADMY', 1.0684277509194358)]"
      ]
     },
     "execution_count": 6,
     "metadata": {},
     "output_type": "execute_result"
    }
   ],
   "source": [
    "# TODO\n",
    "model = linear_model.LogisticRegression().\\\n",
    "    fit(train_X1, train_c)\n",
    "    \n",
    "    # coefficients\n",
    "zip(names_X1, np.exp(model.coef_[0]) - 1)\n",
    "\n",
    "#The odds that a child is myopic is e^(.89) = 2.43 more likely if his/her mother is myopic.\n",
    "#The odds that a child is myopic is e^(1.07)= 2.91 more likley if his/her father is myopic."
   ]
  },
  {
   "cell_type": "markdown",
   "metadata": {},
   "source": [
    "Answer: TODO"
   ]
  },
  {
   "cell_type": "markdown",
   "metadata": {},
   "source": [
    "> ### Question 3.  What's the model accuracy?"
   ]
  },
  {
   "cell_type": "code",
   "execution_count": 7,
   "metadata": {
    "collapsed": false
   },
   "outputs": [
    {
     "data": {
      "text/plain": [
       "0.89320388349514568"
      ]
     },
     "execution_count": 7,
     "metadata": {},
     "output_type": "execute_result"
    }
   ],
   "source": [
    "# TODO\n",
    "model.score(train_X1, train_c)"
   ]
  },
  {
   "cell_type": "markdown",
   "metadata": {},
   "source": [
    "Answer: TODO"
   ]
  },
  {
   "cell_type": "markdown",
   "metadata": {},
   "source": [
    "> ### Question 3.  Use a 5-fold cross-validation to measure the model's accuracy"
   ]
  },
  {
   "cell_type": "code",
   "execution_count": 8,
   "metadata": {
    "collapsed": false
   },
   "outputs": [
    {
     "name": "stdout",
     "output_type": "stream",
     "text": [
      "0.880235929714\n"
     ]
    }
   ],
   "source": [
    "# TODO\n",
    "print cross_val_score(model,train_X1, train_c, cv=5).mean()"
   ]
  },
  {
   "cell_type": "markdown",
   "metadata": {},
   "source": [
    "Answer: TODO"
   ]
  },
  {
   "cell_type": "markdown",
   "metadata": {},
   "source": [
    "> ### Question 4.  In the dataset, what's the percentage of myopic cases?"
   ]
  },
  {
   "cell_type": "code",
   "execution_count": 9,
   "metadata": {
    "collapsed": false
   },
   "outputs": [
    {
     "data": {
      "text/plain": [
       "0.13106796116504854"
      ]
     },
     "execution_count": 9,
     "metadata": {},
     "output_type": "execute_result"
    }
   ],
   "source": [
    "# TODO   #13%\n",
    "df.MYOPIC.mean()"
   ]
  },
  {
   "cell_type": "markdown",
   "metadata": {},
   "source": [
    "Answer: TODO"
   ]
  },
  {
   "cell_type": "markdown",
   "metadata": {},
   "source": [
    "> ### Question 5.  Based on the result above, is your model's accuracy good?"
   ]
  },
  {
   "cell_type": "markdown",
   "metadata": {},
   "source": [
    "Answer: TODO\n",
    "No, we could have guessed 0 all the time and done just as well."
   ]
  },
  {
   "cell_type": "code",
   "execution_count": 10,
   "metadata": {
    "collapsed": false
   },
   "outputs": [
    {
     "data": {
      "text/plain": [
       "0.11976407028586422"
      ]
     },
     "execution_count": 10,
     "metadata": {},
     "output_type": "execute_result"
    }
   ],
   "source": [
    "1 - model_selection.cross_val_score(model, train_X1 , train_c, cv = 5).mean()"
   ]
  },
  {
   "cell_type": "markdown",
   "metadata": {},
   "source": [
    "> ### Question 6.  Build a confusion matrix"
   ]
  },
  {
   "cell_type": "code",
   "execution_count": 11,
   "metadata": {
    "collapsed": false
   },
   "outputs": [
    {
     "data": {
      "text/html": [
       "<div>\n",
       "<table border=\"1\" class=\"dataframe\">\n",
       "  <thead>\n",
       "    <tr style=\"text-align: right;\">\n",
       "      <th>True Class</th>\n",
       "      <th>0</th>\n",
       "      <th>1</th>\n",
       "    </tr>\n",
       "    <tr>\n",
       "      <th>Hypothesized Class</th>\n",
       "      <th></th>\n",
       "      <th></th>\n",
       "    </tr>\n",
       "  </thead>\n",
       "  <tbody>\n",
       "    <tr>\n",
       "      <th>0</th>\n",
       "      <td>524</td>\n",
       "      <td>53</td>\n",
       "    </tr>\n",
       "    <tr>\n",
       "      <th>1</th>\n",
       "      <td>13</td>\n",
       "      <td>28</td>\n",
       "    </tr>\n",
       "  </tbody>\n",
       "</table>\n",
       "</div>"
      ],
      "text/plain": [
       "True Class            0   1\n",
       "Hypothesized Class         \n",
       "0                   524  53\n",
       "1                    13  28"
      ]
     },
     "execution_count": 11,
     "metadata": {},
     "output_type": "execute_result"
    }
   ],
   "source": [
    "# TODO\n",
    "\n",
    "c_hat = model.predict(train_X1)\n",
    "\n",
    "pd.crosstab(c_hat,\n",
    "    train_c,\n",
    "    rownames = ['Hypothesized Class'],\n",
    "    colnames = ['True Class']) \n"
   ]
  },
  {
   "cell_type": "markdown",
   "metadata": {},
   "source": [
    "> ### Question 7.  What's the model `FPR` and `FNR` (i.e., type I and type II error rates)?"
   ]
  },
  {
   "cell_type": "markdown",
   "metadata": {},
   "source": [
    "Answer: TODO\n",
    "FPR = FP / N = 13 / (13+524) = 0.025\n",
    "FNR = FN / P = 53 / (53+28) = 0.65"
   ]
  },
  {
   "cell_type": "markdown",
   "metadata": {},
   "source": [
    "> ### Question 8.  What's the trade-off between these two errors?"
   ]
  },
  {
   "cell_type": "markdown",
   "metadata": {},
   "source": [
    "Answer: TODO\n",
    "All error went to the FNR."
   ]
  },
  {
   "cell_type": "code",
   "execution_count": 12,
   "metadata": {
    "collapsed": false
   },
   "outputs": [
    {
     "data": {
      "text/plain": [
       "<matplotlib.axes._subplots.AxesSubplot at 0x11ba0c390>"
      ]
     },
     "execution_count": 12,
     "metadata": {},
     "output_type": "execute_result"
    },
    {
     "data": {
      "image/png": "[encoded data removed]",
      "text/plain": [
       "<matplotlib.figure.Figure at 0x119222fd0>"
      ]
     },
     "metadata": {},
     "output_type": "display_data"
    }
   ],
   "source": [
    "p_hat = pd.Series(model.predict_proba(train_X1).T[1])\n",
    "\n",
    "def fpr(p):\n",
    "    c_hat = (p_hat >= p)\n",
    "    fp = ((c_hat == 1) & (train_c == 0)).sum()\n",
    "    n = (train_c == 0).sum()\n",
    "    return 1. * fp / n\n",
    "\n",
    "def fnr(p):\n",
    "    c_hat = (p_hat >= p)\n",
    "    fn = ((c_hat == 0) & (train_c == 1)).sum()\n",
    "    p = (train_c == 1).sum()\n",
    "    return 1. * fn / p\n",
    "\n",
    "fpnrs = pd.DataFrame({'threshold': p_hat,\n",
    "        'fpr': p_hat.apply(fpr),\n",
    "        'fnr': p_hat.apply(fnr)},\n",
    "    columns = ['threshold', 'fpr', 'fnr']).\\\n",
    "    sort_values(by = 'threshold')\n",
    "\n",
    "fpnrs.plot(x = 'fnr', y = 'fpr')"
   ]
  },
  {
   "cell_type": "markdown",
   "metadata": {},
   "source": [
    "> ### Question 9.  Run your regression line on `X2` and interpret your results specifically on `SPORTHR`, `READHR`, `COMPHR`, `STUDYHR`, `TVHR`, and `GENDER`.  You might want to use `statsmodels`' `Logit()`"
   ]
  },
  {
   "cell_type": "code",
   "execution_count": 13,
   "metadata": {
    "collapsed": false
   },
   "outputs": [
    {
     "name": "stdout",
     "output_type": "stream",
     "text": [
      "Optimization terminated successfully.\n",
      "         Current function value: 0.354054\n",
      "         Iterations 20\n"
     ]
    },
    {
     "data": {
      "text/html": [
       "<table class=\"simpletable\">\n",
       "<caption>Logit Regression Results</caption>\n",
       "<tr>\n",
       "  <th>Dep. Variable:</th>      <td>MYOPIC</td>      <th>  No. Observations:  </th>  <td>   618</td>  \n",
       "</tr>\n",
       "<tr>\n",
       "  <th>Model:</th>               <td>Logit</td>      <th>  Df Residuals:      </th>  <td>   608</td>  \n",
       "</tr>\n",
       "<tr>\n",
       "  <th>Method:</th>               <td>MLE</td>       <th>  Df Model:          </th>  <td>     9</td>  \n",
       "</tr>\n",
       "<tr>\n",
       "  <th>Date:</th>          <td>Mon, 19 Jun 2017</td> <th>  Pseudo R-squ.:     </th>  <td>0.08846</td> \n",
       "</tr>\n",
       "<tr>\n",
       "  <th>Time:</th>              <td>16:42:10</td>     <th>  Log-Likelihood:    </th> <td> -218.81</td> \n",
       "</tr>\n",
       "<tr>\n",
       "  <th>converged:</th>           <td>True</td>       <th>  LL-Null:           </th> <td> -240.04</td> \n",
       "</tr>\n",
       "<tr>\n",
       "  <th> </th>                      <td> </td>        <th>  LLR p-value:       </th> <td>2.700e-06</td>\n",
       "</tr>\n",
       "</table>\n",
       "<table class=\"simpletable\">\n",
       "<tr>\n",
       "      <td></td>         <th>coef</th>     <th>std err</th>      <th>z</th>      <th>P>|z|</th>  <th>[0.025</th>    <th>0.975]</th>  \n",
       "</tr>\n",
       "<tr>\n",
       "  <th>const</th>     <td>   -4.7493</td> <td>    1.287</td> <td>   -3.689</td> <td> 0.000</td> <td>   -7.273</td> <td>   -2.226</td>\n",
       "</tr>\n",
       "<tr>\n",
       "  <th>AGE</th>       <td>    0.2744</td> <td>    0.193</td> <td>    1.423</td> <td> 0.155</td> <td>   -0.104</td> <td>    0.652</td>\n",
       "</tr>\n",
       "<tr>\n",
       "  <th>GENDER</th>    <td>    0.4241</td> <td>    0.265</td> <td>    1.599</td> <td> 0.110</td> <td>   -0.096</td> <td>    0.944</td>\n",
       "</tr>\n",
       "<tr>\n",
       "  <th>SPORTHR</th>   <td>   -0.0425</td> <td>    0.018</td> <td>   -2.329</td> <td> 0.020</td> <td>   -0.078</td> <td>   -0.007</td>\n",
       "</tr>\n",
       "<tr>\n",
       "  <th>READHR</th>    <td>    0.0896</td> <td> 9.61e+05</td> <td> 9.32e-08</td> <td> 1.000</td> <td>-1.88e+06</td> <td> 1.88e+06</td>\n",
       "</tr>\n",
       "<tr>\n",
       "  <th>COMPHR</th>    <td>    0.0295</td> <td> 6.41e+05</td> <td> 4.61e-08</td> <td> 1.000</td> <td>-1.26e+06</td> <td> 1.26e+06</td>\n",
       "</tr>\n",
       "<tr>\n",
       "  <th>STUDYHR</th>   <td>   -0.1104</td> <td> 9.61e+05</td> <td>-1.15e-07</td> <td> 1.000</td> <td>-1.88e+06</td> <td> 1.88e+06</td>\n",
       "</tr>\n",
       "<tr>\n",
       "  <th>TVHR</th>      <td>    0.0048</td> <td>  3.2e+05</td> <td> 1.48e-08</td> <td> 1.000</td> <td>-6.28e+05</td> <td> 6.28e+05</td>\n",
       "</tr>\n",
       "<tr>\n",
       "  <th>DIOPTERHR</th> <td>    0.0015</td> <td>  3.2e+05</td> <td> 4.66e-09</td> <td> 1.000</td> <td>-6.28e+05</td> <td> 6.28e+05</td>\n",
       "</tr>\n",
       "<tr>\n",
       "  <th>MOMMY</th>     <td>    0.8701</td> <td>    0.262</td> <td>    3.317</td> <td> 0.001</td> <td>    0.356</td> <td>    1.384</td>\n",
       "</tr>\n",
       "<tr>\n",
       "  <th>DADMY</th>     <td>    1.0250</td> <td>    0.265</td> <td>    3.864</td> <td> 0.000</td> <td>    0.505</td> <td>    1.545</td>\n",
       "</tr>\n",
       "</table>"
      ],
      "text/plain": [
       "<class 'statsmodels.iolib.summary.Summary'>\n",
       "\"\"\"\n",
       "                           Logit Regression Results                           \n",
       "==============================================================================\n",
       "Dep. Variable:                 MYOPIC   No. Observations:                  618\n",
       "Model:                          Logit   Df Residuals:                      608\n",
       "Method:                           MLE   Df Model:                            9\n",
       "Date:                Mon, 19 Jun 2017   Pseudo R-squ.:                 0.08846\n",
       "Time:                        16:42:10   Log-Likelihood:                -218.81\n",
       "converged:                       True   LL-Null:                       -240.04\n",
       "                                        LLR p-value:                 2.700e-06\n",
       "==============================================================================\n",
       "                 coef    std err          z      P>|z|      [0.025      0.975]\n",
       "------------------------------------------------------------------------------\n",
       "const         -4.7493      1.287     -3.689      0.000      -7.273      -2.226\n",
       "AGE            0.2744      0.193      1.423      0.155      -0.104       0.652\n",
       "GENDER         0.4241      0.265      1.599      0.110      -0.096       0.944\n",
       "SPORTHR       -0.0425      0.018     -2.329      0.020      -0.078      -0.007\n",
       "READHR         0.0896   9.61e+05   9.32e-08      1.000   -1.88e+06    1.88e+06\n",
       "COMPHR         0.0295   6.41e+05   4.61e-08      1.000   -1.26e+06    1.26e+06\n",
       "STUDYHR       -0.1104   9.61e+05  -1.15e-07      1.000   -1.88e+06    1.88e+06\n",
       "TVHR           0.0048    3.2e+05   1.48e-08      1.000   -6.28e+05    6.28e+05\n",
       "DIOPTERHR      0.0015    3.2e+05   4.66e-09      1.000   -6.28e+05    6.28e+05\n",
       "MOMMY          0.8701      0.262      3.317      0.001       0.356       1.384\n",
       "DADMY          1.0250      0.265      3.864      0.000       0.505       1.545\n",
       "==============================================================================\n",
       "\"\"\""
      ]
     },
     "execution_count": 13,
     "metadata": {},
     "output_type": "execute_result"
    }
   ],
   "source": [
    "# TODO\n",
    "sm.Logit(train_c, sm.add_constant(train_X2)).fit().summary()"
   ]
  },
  {
   "cell_type": "markdown",
   "metadata": {},
   "source": [
    "Answer: \n",
    "\n",
    "The # of hours a person spends on sports, reading, computer, studying or on TV do not increase the odds of being myopic appreciably.  But being female increases the odds by almost 1/2.  Also having parents with myopia increases the chances of a child having myopia.\n",
    "\n",
    "SPORTHR:  e^(-.04) = .96 \n",
    "READHR:  e^(.09) = 1.0\n",
    "COMPHR:  e^(.03) = 1.03\n",
    "STUDYHR:  e^(-.11) = .9\n",
    "TVHR:  e^(.005) = 1\n",
    "GENDER:  e^(.4) = 1.5\n"
   ]
  },
  {
   "cell_type": "markdown",
   "metadata": {},
   "source": [
    "> ### Question 10.  Now it's time for regularization!  Use `X1`.  According to `Lasso`, what are the non-significant features?"
   ]
  },
  {
   "cell_type": "code",
   "execution_count": 21,
   "metadata": {
    "collapsed": false
   },
   "outputs": [
    {
     "data": {
      "text/plain": [
       "GridSearchCV(cv=KFold(n_splits=5, random_state=0, shuffle=True),\n",
       "       error_score='raise',\n",
       "       estimator=LogisticRegression(C=1.0, class_weight=None, dual=False, fit_intercept=True,\n",
       "          intercept_scaling=1, max_iter=100, multi_class='ovr', n_jobs=1,\n",
       "          penalty='l2', random_state=None, solver='liblinear', tol=0.0001,\n",
       "          verbose=0, warm_start=False),\n",
       "       fit_params={}, iid=True, n_jobs=1,\n",
       "       param_grid={'penalty': ['l1'], 'C': array([  1.00000e-10,   1.00000e-09,   1.00000e-08,   1.00000e-07,\n",
       "         1.00000e-06,   1.00000e-05,   1.00000e-04,   1.00000e-03,\n",
       "         1.00000e-02,   1.00000e-01,   1.00000e+00,   1.00000e+01,\n",
       "         1.00000e+02,   1.00000e+03,   1.00000e+04,   1.00000e+05,\n",
       "         1.00000e+06,   1.00000e+07,   1.00000e+08,   1.00000e+09,\n",
       "         1.00000e+10])},\n",
       "       pre_dispatch='2*n_jobs', refit=True, return_train_score=True,\n",
       "       scoring=None, verbose=0)"
      ]
     },
     "execution_count": 21,
     "metadata": {},
     "output_type": "execute_result"
    }
   ],
   "source": [
    "# TODO\n",
    "\n",
    "scaler = preprocessing.MinMaxScaler().fit(train_X1)\n",
    "\n",
    "X1 = pd.DataFrame(scaler.transform(train_X1), columns = train_X1.columns)\n",
    "\n",
    "gs = model_selection.GridSearchCV(\n",
    "    estimator = linear_model.LogisticRegression(),\n",
    "    param_grid = {'C': np.logspace(-10, 10, 21), 'penalty': ['l1']},\n",
    "    cv = model_selection.KFold(n_splits = 5, shuffle = True, random_state = 0)\n",
    ")\n",
    "\n",
    "gs.fit(X1, train_c)"
   ]
  },
  {
   "cell_type": "code",
   "execution_count": 23,
   "metadata": {
    "collapsed": false
   },
   "outputs": [
    {
     "data": {
      "text/plain": [
       "AGE          0.250000\n",
       "GENDER       1.000000\n",
       "SPHEQ        0.253007\n",
       "AL           0.465665\n",
       "ACD          0.640054\n",
       "               ...   \n",
       "STUDYHR      0.000000\n",
       "TVHR         0.096774\n",
       "DIOPTERHR    0.101010\n",
       "MOMMY        1.000000\n",
       "DADMY        0.000000\n",
       "Name: 53, dtype: float64"
      ]
     },
     "execution_count": 23,
     "metadata": {},
     "output_type": "execute_result"
    }
   ],
   "source": [
    "X1.iloc[53,:]"
   ]
  },
  {
   "cell_type": "code",
   "execution_count": 24,
   "metadata": {
    "collapsed": false
   },
   "outputs": [
    {
     "data": {
      "text/plain": [
       "{'C': 1.0, 'penalty': 'l1'}"
      ]
     },
     "execution_count": 24,
     "metadata": {},
     "output_type": "execute_result"
    }
   ],
   "source": [
    "gs.best_params_"
   ]
  },
  {
   "cell_type": "code",
   "execution_count": 27,
   "metadata": {
    "collapsed": false
   },
   "outputs": [
    {
     "data": {
      "text/plain": [
       "LogisticRegression(C=1.0, class_weight=None, dual=False, fit_intercept=True,\n",
       "          intercept_scaling=1, max_iter=100, multi_class='ovr', n_jobs=1,\n",
       "          penalty='l1', random_state=None, solver='liblinear', tol=0.0001,\n",
       "          verbose=0, warm_start=False)"
      ]
     },
     "execution_count": 27,
     "metadata": {},
     "output_type": "execute_result"
    }
   ],
   "source": [
    "gs.best_estimator_"
   ]
  },
  {
   "cell_type": "code",
   "execution_count": 29,
   "metadata": {
    "collapsed": false
   },
   "outputs": [],
   "source": [
    "model = gs.best_estimator_.fit(X1, train_c)"
   ]
  },
  {
   "cell_type": "code",
   "execution_count": 30,
   "metadata": {
    "collapsed": false
   },
   "outputs": [
    {
     "name": "stdout",
     "output_type": "stream",
     "text": [
      "[ 0.08843156]\n"
     ]
    },
    {
     "data": {
      "text/plain": [
       "[('AGE', 0.0),\n",
       " ('GENDER', 0.75145021679469171),\n",
       " ('SPHEQ', -0.99999948048819598),\n",
       " ('AL', 0.0),\n",
       " ('ACD', 2.33828798410359),\n",
       " ('LT', 0.0),\n",
       " ('VCD', 0.0),\n",
       " ('SPORTHR', -0.70094135450771722),\n",
       " ('READHR', 0.70208145915666886),\n",
       " ('COMPHR', 0.0),\n",
       " ('STUDYHR', -0.44440882281721727),\n",
       " ('TVHR', 0.0),\n",
       " ('DIOPTERHR', 0.0),\n",
       " ('MOMMY', 0.93860281662684897),\n",
       " ('DADMY', 1.233532862025438)]"
      ]
     },
     "execution_count": 30,
     "metadata": {},
     "output_type": "execute_result"
    }
   ],
   "source": [
    "print model.intercept_\n",
    "zip(train_X1, np.exp(model.coef_[0]) - 1)\n"
   ]
  },
  {
   "cell_type": "markdown",
   "metadata": {},
   "source": [
    "Answer: TODO"
   ]
  },
  {
   "cell_type": "markdown",
   "metadata": {},
   "source": [
    "> ### Question 11.  What is your conclusions about your parents' claims?"
   ]
  },
  {
   "cell_type": "markdown",
   "metadata": {},
   "source": [
    "Answer: TODO"
   ]
  },
  {
   "cell_type": "markdown",
   "metadata": {},
   "source": [
    "> ### Question 12.  Draw the ROC curve of your best tuned model"
   ]
  },
  {
   "cell_type": "code",
   "execution_count": null,
   "metadata": {
    "collapsed": false
   },
   "outputs": [],
   "source": [
    "# TODO\n",
    "p_hat = model.predict_proba(train_X1).T[1]\n",
    "fpr, tpr, thresholds = metrics.roc_curve(train_c, p_hat)\n",
    "\n",
    "plt.figure()\n",
    "plt.plot(fpr, tpr, label = 'ROC curve (area = %0.2f)' % metrics.auc(fpr, tpr))\n",
    "plt.plot([0, 1], [0, 1], 'k--')\n",
    "plt.xlim([0, 1.01])\n",
    "plt.ylim([0, 1.01])\n",
    "plt.xlabel('FPR/Fall-out')\n",
    "plt.ylabel('TPR/Sensitivity')\n",
    "plt.title(\"ROC\")\n",
    "plt.legend(loc = 'lower right')"
   ]
  },
  {
   "cell_type": "code",
   "execution_count": null,
   "metadata": {
    "collapsed": true
   },
   "outputs": [],
   "source": []
  }
 ],
 "metadata": {
  "kernelspec": {
   "display_name": "Python 2",
   "language": "python",
   "name": "python2"
  },
  "language_info": {
   "codemirror_mode": {
    "name": "ipython",
    "version": 2
   },
   "file_extension": ".py",
   "mimetype": "text/x-python",
   "name": "python",
   "nbconvert_exporter": "python",
   "pygments_lexer": "ipython2",
   "version": "2.7.13"
  }
 },
 "nbformat": 4,
 "nbformat_minor": 0
}
