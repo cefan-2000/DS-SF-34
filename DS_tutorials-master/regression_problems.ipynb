{
 "cells": [
  {
   "cell_type": "markdown",
   "metadata": {},
   "source": [
    "# Regression Workbook \n",
    "\n",
    "The purpose of this problem set is to put your regression skills to the test. As a GA student of data science, you have covered a number of sklearn regression techniques, so now is your chance to apply them. We'll be using the Boston Housing Dataset. Just kidding. I know you hate that one. \n",
    "\n",
    "We'll be exploring the relationships between sugar, economics, and teeth. You are given a dataset containing sugar consuption, healthcare spending, per capita GDP, literacy rate and the number of bad teeth per child across several hundred countries. What do you think? If you get richer, do your teeth get worse from more sugary foods, or better with health care assistance? Does education improve health, or drive excess? \n",
    "\n",
    "<img src='https://raw.githubusercontent.com/momonala/DS_tutorials/master/files/brush.gif' width='150'>\n",
    "\n",
    "You'll be implementing some of the techniques you've learned in class with hypothesis testing, exploratory analysis, and regression. A few questions to consider: \n",
    " \n",
    "    1) What questions are relevant to ask? How do explore these your initial analysis?\n",
    "    2) How can you optimize on the default regression techniques? \n",
    "    3) How can you effectively visualize and explain the relationships?\n",
    "    \n",
    "I've provided some imports and starter code to get you going.\n",
    "\n",
    "If you get stuck, remember the options you have. Talk to your neighbors, check out StackOverflow and blogs (I recommend Googling your question with the term blog.yhat), and run '?' on functions for docstrings. "
   ]
  },
  {
   "cell_type": "code",
   "execution_count": null,
   "metadata": {
    "collapsed": false
   },
   "outputs": [],
   "source": [
    "# ex. \n",
    "max?\n",
    "health average is $ spent "
   ]
  },
  {
   "cell_type": "markdown",
   "metadata": {},
   "source": [
    "# Exploratory Analysis "
   ]
  },
  {
   "cell_type": "code",
   "execution_count": 1,
   "metadata": {
    "collapsed": true
   },
   "outputs": [],
   "source": [
    "import pandas as pd \n",
    "import numpy as np \n",
    "import matplotlib.pyplot as plt"
   ]
  },
  {
   "cell_type": "code",
   "execution_count": 2,
   "metadata": {
    "collapsed": true
   },
   "outputs": [],
   "source": [
    "df = pd.read_csv(\"data/dental_economics.csv\")"
   ]
  },
  {
   "cell_type": "code",
   "execution_count": null,
   "metadata": {
    "collapsed": false
   },
   "outputs": [],
   "source": [
    "#TO DO: \n",
    "# perform exploratory analysis. Clean the data as necessary and use correlation to find relevant features. \n",
    "# check the distributions of the data. Write a sentence about the distribution. "
   ]
  },
  {
   "cell_type": "code",
   "execution_count": 3,
   "metadata": {
    "collapsed": false
   },
   "outputs": [
    {
     "data": {
      "text/plain": [
       "0"
      ]
     },
     "execution_count": 3,
     "metadata": {},
     "output_type": "execute_result"
    }
   ],
   "source": [
    "df.isnull().sum().sum()"
   ]
  },
  {
   "cell_type": "code",
   "execution_count": 5,
   "metadata": {
    "collapsed": false
   },
   "outputs": [
    {
     "data": {
      "text/html": [
       "<div>\n",
       "<table border=\"1\" class=\"dataframe\">\n",
       "  <thead>\n",
       "    <tr style=\"text-align: right;\">\n",
       "      <th></th>\n",
       "      <th>count</th>\n",
       "      <th>mean</th>\n",
       "      <th>std</th>\n",
       "      <th>min</th>\n",
       "      <th>25%</th>\n",
       "      <th>50%</th>\n",
       "      <th>75%</th>\n",
       "      <th>max</th>\n",
       "    </tr>\n",
       "  </thead>\n",
       "  <tbody>\n",
       "    <tr>\n",
       "      <th>badteeth</th>\n",
       "      <td>121.0</td>\n",
       "      <td>2.078099</td>\n",
       "      <td>1.217042</td>\n",
       "      <td>0.300000</td>\n",
       "      <td>1.180000</td>\n",
       "      <td>1.900000</td>\n",
       "      <td>2.800000</td>\n",
       "      <td>5.900000</td>\n",
       "    </tr>\n",
       "    <tr>\n",
       "      <th>literacy_avg</th>\n",
       "      <td>121.0</td>\n",
       "      <td>78.165821</td>\n",
       "      <td>20.786888</td>\n",
       "      <td>18.201399</td>\n",
       "      <td>66.641822</td>\n",
       "      <td>83.755499</td>\n",
       "      <td>96.273284</td>\n",
       "      <td>99.763509</td>\n",
       "    </tr>\n",
       "    <tr>\n",
       "      <th>GDP_avg</th>\n",
       "      <td>121.0</td>\n",
       "      <td>3038.871018</td>\n",
       "      <td>4993.960158</td>\n",
       "      <td>139.937213</td>\n",
       "      <td>447.218705</td>\n",
       "      <td>1277.797569</td>\n",
       "      <td>3240.432619</td>\n",
       "      <td>38226.277040</td>\n",
       "    </tr>\n",
       "    <tr>\n",
       "      <th>sugar_avg</th>\n",
       "      <td>121.0</td>\n",
       "      <td>69.238413</td>\n",
       "      <td>39.086482</td>\n",
       "      <td>2.677727</td>\n",
       "      <td>36.740682</td>\n",
       "      <td>70.110682</td>\n",
       "      <td>98.567727</td>\n",
       "      <td>156.538636</td>\n",
       "    </tr>\n",
       "    <tr>\n",
       "      <th>health_avg</th>\n",
       "      <td>121.0</td>\n",
       "      <td>170.912344</td>\n",
       "      <td>279.593892</td>\n",
       "      <td>2.155842</td>\n",
       "      <td>16.922464</td>\n",
       "      <td>66.530291</td>\n",
       "      <td>180.832570</td>\n",
       "      <td>1705.243078</td>\n",
       "    </tr>\n",
       "  </tbody>\n",
       "</table>\n",
       "</div>"
      ],
      "text/plain": [
       "              count         mean          std         min         25%  \\\n",
       "badteeth      121.0     2.078099     1.217042    0.300000    1.180000   \n",
       "literacy_avg  121.0    78.165821    20.786888   18.201399   66.641822   \n",
       "GDP_avg       121.0  3038.871018  4993.960158  139.937213  447.218705   \n",
       "sugar_avg     121.0    69.238413    39.086482    2.677727   36.740682   \n",
       "health_avg    121.0   170.912344   279.593892    2.155842   16.922464   \n",
       "\n",
       "                      50%          75%           max  \n",
       "badteeth         1.900000     2.800000      5.900000  \n",
       "literacy_avg    83.755499    96.273284     99.763509  \n",
       "GDP_avg       1277.797569  3240.432619  38226.277040  \n",
       "sugar_avg       70.110682    98.567727    156.538636  \n",
       "health_avg      66.530291   180.832570   1705.243078  "
      ]
     },
     "execution_count": 5,
     "metadata": {},
     "output_type": "execute_result"
    }
   ],
   "source": [
    "df.describe().transpose()"
   ]
  },
  {
   "cell_type": "code",
   "execution_count": 6,
   "metadata": {
    "collapsed": false
   },
   "outputs": [
    {
     "data": {
      "text/html": [
       "<div>\n",
       "<table border=\"1\" class=\"dataframe\">\n",
       "  <thead>\n",
       "    <tr style=\"text-align: right;\">\n",
       "      <th></th>\n",
       "      <th>badteeth</th>\n",
       "      <th>literacy_avg</th>\n",
       "      <th>GDP_avg</th>\n",
       "      <th>sugar_avg</th>\n",
       "      <th>health_avg</th>\n",
       "    </tr>\n",
       "  </thead>\n",
       "  <tbody>\n",
       "    <tr>\n",
       "      <th>badteeth</th>\n",
       "      <td>1.000000</td>\n",
       "      <td>0.386415</td>\n",
       "      <td>0.130030</td>\n",
       "      <td>0.341168</td>\n",
       "      <td>0.042692</td>\n",
       "    </tr>\n",
       "    <tr>\n",
       "      <th>literacy_avg</th>\n",
       "      <td>0.386415</td>\n",
       "      <td>1.000000</td>\n",
       "      <td>0.270349</td>\n",
       "      <td>0.594290</td>\n",
       "      <td>0.380230</td>\n",
       "    </tr>\n",
       "    <tr>\n",
       "      <th>GDP_avg</th>\n",
       "      <td>0.130030</td>\n",
       "      <td>0.270349</td>\n",
       "      <td>1.000000</td>\n",
       "      <td>0.381424</td>\n",
       "      <td>0.704342</td>\n",
       "    </tr>\n",
       "    <tr>\n",
       "      <th>sugar_avg</th>\n",
       "      <td>0.341168</td>\n",
       "      <td>0.594290</td>\n",
       "      <td>0.381424</td>\n",
       "      <td>1.000000</td>\n",
       "      <td>0.370900</td>\n",
       "    </tr>\n",
       "    <tr>\n",
       "      <th>health_avg</th>\n",
       "      <td>0.042692</td>\n",
       "      <td>0.380230</td>\n",
       "      <td>0.704342</td>\n",
       "      <td>0.370900</td>\n",
       "      <td>1.000000</td>\n",
       "    </tr>\n",
       "  </tbody>\n",
       "</table>\n",
       "</div>"
      ],
      "text/plain": [
       "              badteeth  literacy_avg   GDP_avg  sugar_avg  health_avg\n",
       "badteeth      1.000000      0.386415  0.130030   0.341168    0.042692\n",
       "literacy_avg  0.386415      1.000000  0.270349   0.594290    0.380230\n",
       "GDP_avg       0.130030      0.270349  1.000000   0.381424    0.704342\n",
       "sugar_avg     0.341168      0.594290  0.381424   1.000000    0.370900\n",
       "health_avg    0.042692      0.380230  0.704342   0.370900    1.000000"
      ]
     },
     "execution_count": 6,
     "metadata": {},
     "output_type": "execute_result"
    }
   ],
   "source": [
    "df.corr()"
   ]
  },
  {
   "cell_type": "code",
   "execution_count": null,
   "metadata": {
    "collapsed": true
   },
   "outputs": [],
   "source": []
  },
  {
   "cell_type": "code",
   "execution_count": null,
   "metadata": {
    "collapsed": true
   },
   "outputs": [],
   "source": []
  },
  {
   "cell_type": "markdown",
   "metadata": {},
   "source": [
    "### Exercises:\n",
    "##### --Double click this cell to answer-- \n",
    "\n",
    "1)  Describe the features of the data set. Did you find anything unique to them?\n",
    "\n",
    "Answer: \n",
    "\n",
    "2)  Describe the correlations you found. \n",
    "\n",
    "Answer: \n",
    "\n",
    "3)  Describe the distributions of the data. \n",
    "\n",
    "Answer: \n",
    "\n",
    "4)  Describe any assumptions you are making. How will these affect your research?\n",
    "\n",
    "Answer: \n",
    "\n",
    "1) In your own words, explain the difference between correlation and regression. Explain a few advantages and disadvantages to each. Compare results with your table: \n",
    "\n",
    "Answer:  "
   ]
  },
  {
   "cell_type": "markdown",
   "metadata": {},
   "source": [
    "# Hypothesis\n",
    "You've seen the data. What are the features and what is the output? Explain your hypotheses here: \n",
    "\n",
    "### H0: \n",
    "\n",
    "### H1: \n",
    "\n"
   ]
  },
  {
   "cell_type": "markdown",
   "metadata": {},
   "source": [
    "# Build your models "
   ]
  },
  {
   "cell_type": "code",
   "execution_count": null,
   "metadata": {
    "collapsed": true
   },
   "outputs": [],
   "source": [
    "from sklearn import linear_model\n",
    "from sklearn.ensemble import RandomForestClassifier\n",
    "from sklearn.neighbors import KNeighborsRegressor\n",
    "from sklearn.model_selection import  train_test_split"
   ]
  },
  {
   "cell_type": "code",
   "execution_count": null,
   "metadata": {
    "collapsed": true
   },
   "outputs": [],
   "source": []
  },
  {
   "cell_type": "markdown",
   "metadata": {},
   "source": [
    "# Spot Check \n",
    "\n",
    "How's the model building coming? Have you identifyed some features of interest and noticed any trends? If so, put them into words. \n",
    "\n",
    "### Noticeable Trends: \n",
    "\n",
    "1) \n",
    "\n",
    "2) \n",
    "\n",
    "3) \n"
   ]
  },
  {
   "cell_type": "markdown",
   "metadata": {},
   "source": [
    "# Optimization\n",
    "\n",
    "Time to fine tune the model. What hyperparameters exist in your model? How do you tune these hyperparameters? Also, how can you test for overfitting, and how will you reduce it if you see it? Implement below. "
   ]
  },
  {
   "cell_type": "code",
   "execution_count": null,
   "metadata": {
    "collapsed": true
   },
   "outputs": [],
   "source": []
  },
  {
   "cell_type": "code",
   "execution_count": null,
   "metadata": {
    "collapsed": true
   },
   "outputs": [],
   "source": []
  },
  {
   "cell_type": "markdown",
   "metadata": {},
   "source": [
    "Evaluate your models again. How do different hyperparameters change your predictive performance? Again, explain in a few words."
   ]
  },
  {
   "cell_type": "code",
   "execution_count": null,
   "metadata": {
    "collapsed": true
   },
   "outputs": [],
   "source": [
    "# TO DO:\n",
    "# fill in the correct values for the hyperparameter testing. \n",
    "\n",
    "for INPUT HYPERPARAMTER in range(INPUT RANGE):\n",
    "    model = \n",
    "    #TO DO: test hyperparameters "
   ]
  },
  {
   "cell_type": "code",
   "execution_count": null,
   "metadata": {
    "collapsed": true
   },
   "outputs": [],
   "source": []
  },
  {
   "cell_type": "markdown",
   "metadata": {},
   "source": [
    "# Final Conclusions\n",
    "\n",
    "If a data scientist makes a brilliant conclusion but can't communicate effectively, did they ever make a conclusion?  \n",
    "\n",
    "Explain your findings to a person with a math/stats background. Reference your H1/H0 hypotheses:\n",
    "\n",
    "Answer: \n",
    "\n",
    "Now explain them to a person who hates math:\n",
    "\n",
    "Answer: \n"
   ]
  }
 ],
 "metadata": {
  "kernelspec": {
   "display_name": "Python 2",
   "language": "python",
   "name": "python2"
  },
  "language_info": {
   "codemirror_mode": {
    "name": "ipython",
    "version": 2
   },
   "file_extension": ".py",
   "mimetype": "text/x-python",
   "name": "python",
   "nbconvert_exporter": "python",
   "pygments_lexer": "ipython2",
   "version": "2.7.13"
  }
 },
 "nbformat": 4,
 "nbformat_minor": 2
}
